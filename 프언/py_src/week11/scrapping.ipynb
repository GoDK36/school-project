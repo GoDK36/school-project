{
 "cells": [
  {
   "cell_type": "code",
   "execution_count": 52,
   "metadata": {},
   "outputs": [],
   "source": [
    "import requests, re\n",
    "from bs4 import BeautifulSoup"
   ]
  },
  {
   "cell_type": "code",
   "execution_count": 68,
   "metadata": {},
   "outputs": [],
   "source": [
    "url = \"https://movie.naver.com/movie/point/af/list.nhn?st=mcode&sword=161967&target=after&page={}\""
   ]
  },
  {
   "cell_type": "code",
   "execution_count": 64,
   "metadata": {},
   "outputs": [],
   "source": [
    "def get_soup(url):\n",
    "    #html 페이지 요청해서 가져오가\n",
    "    html = requests.get(url).text\n",
    "    #가져온 html 파싱 준비하기\n",
    "    soup = BeautifulSoup(html,'html.parser')\n",
    "    return soup"
   ]
  },
  {
   "cell_type": "code",
   "execution_count": 55,
   "metadata": {},
   "outputs": [
    {
     "data": {
      "text/plain": [
       "'<!DOCTYPE html>\\r\\n<html lang=\"ko\">\\r\\n<head>\\r\\n<meta http-equiv=\"Content-Type\" content=\"text/html; chars'"
      ]
     },
     "execution_count": 55,
     "metadata": {},
     "output_type": "execute_result"
    }
   ],
   "source": [
    "\n",
    "html.strip()[:100]"
   ]
  },
  {
   "cell_type": "code",
   "execution_count": 56,
   "metadata": {},
   "outputs": [],
   "source": []
  },
  {
   "cell_type": "code",
   "execution_count": 57,
   "metadata": {},
   "outputs": [
    {
     "name": "stdout",
     "output_type": "stream",
     "text": [
      "<table cellspacing=\"0\" class=\"list_netizen\">\n",
      "<caption class=\"blind\">개봉 후 평점 목록으로 번호, 평점, 내용, 글쓴이, 날짜 정보를 제공</caption>\n",
      "<colgroup><col width=\"44\"/><col width=\"87\"/><col width=\"23\"/><col width=\"*\"/><col width=\"68\"/>\n",
      "<thead>\n",
      "<tr>\n",
      "<th>번호</th>\n",
      "<th colspan=\"2\">평점</th>\n",
      "<th>140자평</th>\n",
      "<th class=\"al\"><span class=\"th_m1\">글쓴이·날짜</span></th>\n",
      "</tr>\n",
      "</thead>\n",
      "<tbody>\n",
      "<tr>\n",
      "<td class=\"ac num\">15804749</td>\n",
      "<td><div class=\"fr point_type_n\"><div class=\"mask\" style=\"width:10.0%\"></div></div></td>\n",
      "<td class=\"point\">1</td>\n",
      "<td class=\"title\">\n",
      "<a class=\"movie\" href=\"/movie/bi/mi/basic.nhn?code=161967\">기생충</a>\n",
      "<br/>그닥 보고나면 생각과 해석이 난무하지만 영화자체는 별로였다 \n",
      "\t\t\t\n",
      "\t\t\t\n",
      "\t\t\t\n",
      "\t\t\t\t\n",
      "\t\t\t\t\n",
      "\t\t\t\t\n",
      "\t\t\t\t<a class=\"report\" href=\"javascript:report('hyun****', 'B/xosFDsxxYWy8222ItYRur+nPgA9ucJFHUu9wOanKA=', '그닥 보고나면 생각과 해석이 난무하지만 영화자체는 별로였다', '15804749', 'point_after');\" style=\"color:#8F8F8F\" title=\"새 창\">신고</a>\n",
      "</td>\n",
      "<td class=\"num\"><a class=\"author\" href=\"javascript:find_list('nickname','15804749','after');\">hyun****</a><br/>19.06.13</td>\n",
      "</tr>\n",
      "<tr>\n",
      "<td class=\"ac num\">15804742</td>\n",
      "<td><div class=\"fr point_type_n\"><div class=\"mask\" style=\"width:100.0%\"></div></div></td>\n",
      "<td class=\"point\">10</td>\n",
      "<td class=\"title\">\n",
      "<a class=\"movie\" href=\"/movie/bi/mi/basic.nhn?code=161967\">기생충</a>\n",
      "<br/>재미있습니다. 생각을 많이 하게 되는 영화이면서 씁쓸한 웃음을 짓게 만드는거 같네요 \n",
      "\t\t\t\n",
      "\t\t\t\n",
      "\t\t\t\n",
      "\t\t\t\t\n",
      "\t\t\t\t\n",
      "\t\t\t\t\n",
      "\t\t\t\t<a class=\"report\" href=\"javascript:report('pink****', '6GeMTzj3OwJeALARSuC/6jliE+aFiRBSNGepMX+q6jQ=', '재미있습니다. 생각을 많이 하게 되는 영화이면서 씁쓸한 웃음을 짓게 만드는거 같네요', '15804742', 'point_after');\" style=\"color:#8F8F8F\" title=\"새 창\">신고</a>\n",
      "</td>\n",
      "<td class=\"num\"><a class=\"author\" href=\"javascript:find_list('nickname','15804742','after');\">pink****</a><br/>19.06.13</td>\n",
      "</tr>\n",
      "<tr>\n",
      "<td class=\"ac num\">15804736</td>\n",
      "<td><div class=\"fr point_type_n\"><div class=\"mask\" style=\"width:100.0%\"></div></div></td>\n",
      "<td class=\"point\">10</td>\n",
      "<td class=\"title\">\n",
      "<a class=\"movie\" href=\"/movie/bi/mi/basic.nhn?code=161967\">기생충</a>\n",
      "<br/>이 영화 10점 안 주면 어떤 영화를 줘야하나... \n",
      "\t\t\t\n",
      "\t\t\t\n",
      "\t\t\t\n",
      "\t\t\t\t\n",
      "\t\t\t\t\n",
      "\t\t\t\t\n",
      "\t\t\t\t<a class=\"report\" href=\"javascript:report('mflo****', 't5V2SYcNH+uj2byQDxCJ+u2NQrjhfBQLXsAn4000Vt4=', '이 영화 10점 안 주면 어떤 영화를 줘야하나...', '15804736', 'point_after');\" style=\"color:#8F8F8F\" title=\"새 창\">신고</a>\n",
      "</td>\n",
      "<td class=\"num\"><a class=\"author\" href=\"javascript:find_list('nickname','15804736','after');\">mflo****</a><br/>19.06.13</td>\n",
      "</tr>\n",
      "<tr>\n",
      "<td class=\"ac num\">15804735</td>\n",
      "<td><div class=\"fr point_type_n\"><div class=\"mask\" style=\"width:100.0%\"></div></div></td>\n",
      "<td class=\"point\">10</td>\n",
      "<td class=\"title\">\n",
      "<a class=\"movie\" href=\"/movie/bi/mi/basic.nhn?code=161967\">기생충</a>\n",
      "<br/>ㅋㅋㅋㅋ정말 재미있었던 영화에요 또 보고싶네요 \n",
      "\t\t\t\n",
      "\t\t\t\n",
      "\t\t\t\n",
      "\t\t\t\t\n",
      "\t\t\t\t\n",
      "\t\t\t\t\n",
      "\t\t\t\t<a class=\"report\" href=\"javascript:report('sane****', 'HMvOT/1N837VI9faf/FPlTmmB40ZvNWjnp9kXT+Pjac=', 'ㅋㅋㅋㅋ정말 재미있었던 영화에요 또 보고싶네요', '15804735', 'point_after');\" style=\"color:#8F8F8F\" title=\"새 창\">신고</a>\n",
      "</td>\n",
      "<td class=\"num\"><a class=\"author\" href=\"javascript:find_list('nickname','15804735','after');\">sane****</a><br/>19.06.13</td>\n",
      "</tr>\n",
      "<tr>\n",
      "<td class=\"ac num\">15804733</td>\n",
      "<td><div class=\"fr point_type_n\"><div class=\"mask\" style=\"width:20.0%\"></div></div></td>\n",
      "<td class=\"point\">2</td>\n",
      "<td class=\"title\">\n",
      "<a class=\"movie\" href=\"/movie/bi/mi/basic.nhn?code=161967\">기생충</a>\n",
      "<br/>이런 영화가 세상에 안좋은 영향만 미칠듯합니다 \n",
      "\t\t\t\n",
      "\t\t\t\n",
      "\t\t\t\n",
      "\t\t\t\t\n",
      "\t\t\t\t\n",
      "\t\t\t\t\n",
      "\t\t\t\t<a class=\"report\" href=\"javascript:report('chsu****', 'c0BwXTxw1UPONldH89314HU3IMX6cFvnQ911ZsmuGU8=', '이런 영화가 세상에 안좋은 영향만 미칠듯합니다', '15804733', 'point_after');\" style=\"color:#8F8F8F\" title=\"새 창\">신고</a>\n",
      "</td>\n",
      "<td class=\"num\"><a class=\"author\" href=\"javascript:find_list('nickname','15804733','after');\">chsu****</a><br/>19.06.13</td>\n",
      "</tr>\n",
      "<tr>\n",
      "<td class=\"ac num\">15804732</td>\n",
      "<td><div class=\"fr point_type_n\"><div class=\"mask\" style=\"width:100.0%\"></div></div></td>\n",
      "<td class=\"point\">10</td>\n",
      "<td class=\"title\">\n",
      "<a class=\"movie\" href=\"/movie/bi/mi/basic.nhn?code=161967\">기생충</a>\n",
      "<br/>결말 때문에 더욱 찝찝한 마음이 들 수 있던 영화였다. 알라딘, 기생충 이 두영화 근래 본 영화중 b \n",
      "\t\t\t\n",
      "\t\t\t\n",
      "\t\t\t\n",
      "\t\t\t\t\n",
      "\t\t\t\t\n",
      "\t\t\t\t\n",
      "\t\t\t\t<a class=\"report\" href=\"javascript:report('seve****', 'IgRdUkwHl80sT1qp7ePL/vrKKE7Z/LJmfOnpDKxWx6g=', '결말 때문에 더욱 찝찝한 마음이 들 수 있던 영화였다. 알라딘, 기생충 이 두영화 근래 본 영화중 b', '15804732', 'point_after');\" style=\"color:#8F8F8F\" title=\"새 창\">신고</a>\n",
      "</td>\n",
      "<td class=\"num\"><a class=\"author\" href=\"javascript:find_list('nickname','15804732','after');\">seve****</a><br/>19.06.13</td>\n",
      "</tr>\n",
      "<tr>\n",
      "<td class=\"ac num\">15804731</td>\n",
      "<td><div class=\"fr point_type_n\"><div class=\"mask\" style=\"width:100.0%\"></div></div></td>\n",
      "<td class=\"point\">10</td>\n",
      "<td class=\"title\">\n",
      "<a class=\"movie\" href=\"/movie/bi/mi/basic.nhn?code=161967\">기생충</a>\n",
      "<br/>재밋다 재밋어 제목도 왜 기생충인지 보면 암 \n",
      "\t\t\t\n",
      "\t\t\t\n",
      "\t\t\t\n",
      "\t\t\t\t\n",
      "\t\t\t\t\n",
      "\t\t\t\t\n",
      "\t\t\t\t<a class=\"report\" href=\"javascript:report('worl****', 'VS15/rSc0eNF5yzU4DbyGygOk7ucjQ8hbIcwQ4r6qW4=', '재밋다 재밋어 제목도 왜 기생충인지 보면 암', '15804731', 'point_after');\" style=\"color:#8F8F8F\" title=\"새 창\">신고</a>\n",
      "</td>\n",
      "<td class=\"num\"><a class=\"author\" href=\"javascript:find_list('nickname','15804731','after');\">worl****</a><br/>19.06.13</td>\n",
      "</tr>\n",
      "<tr>\n",
      "<td class=\"ac num\">15804718</td>\n",
      "<td><div class=\"fr point_type_n\"><div class=\"mask\" style=\"width:10.0%\"></div></div></td>\n",
      "<td class=\"point\">1</td>\n",
      "<td class=\"title\">\n",
      "<a class=\"movie\" href=\"/movie/bi/mi/basic.nhn?code=161967\">기생충</a>\n",
      "<br/>어떤 좌빨놈의 말 \"우린 보수삥뜯어 평생놀고먹을거야.\" 이 메타포는 빈부의 문제가 아니야. 좌빨 기생충들의 이념 아귀다툼에 불과한 예기. 좌빨봉준호의 자아비판적 영화로 보면됌. 이제 정신차리겨? \n",
      "\t\t\t\n",
      "\t\t\t\n",
      "\t\t\t\n",
      "\t\t\t\t\n",
      "\t\t\t\t\n",
      "\t\t\t\t\n",
      "\t\t\t\t<a class=\"report\" href=\"javascript:report('ally****', 'R1UKPO5/AAAofUOMmGXpzt8IxIjjaZi0/qQAhPmP2TI=', '어떤 좌빨놈의 말 &amp;amp;#34;우린 보수삥뜯어 평생놀고먹을거야.&amp;amp;#34; 이 메타포는 빈부의 문제가 아니야. 좌빨 기생충들의 이념 아귀다툼에 불과한 예기. 좌빨봉준호의 자아비판적 영화로 보면됌. 이제 정신차리겨?', '15804718', 'point_after');\" style=\"color:#8F8F8F\" title=\"새 창\">신고</a>\n",
      "</td>\n",
      "<td class=\"num\"><a class=\"author\" href=\"javascript:find_list('nickname','15804718','after');\">ally****</a><br/>19.06.13</td>\n",
      "</tr>\n",
      "<tr>\n",
      "<td class=\"ac num\">15804715</td>\n",
      "<td><div class=\"fr point_type_n\"><div class=\"mask\" style=\"width:100.0%\"></div></div></td>\n",
      "<td class=\"point\">10</td>\n",
      "<td class=\"title\">\n",
      "<a class=\"movie\" href=\"/movie/bi/mi/basic.nhn?code=161967\">기생충</a>\n",
      "<br/>휴유증이 큰 영화. 계속 곱씹게 되네요. 나의 위치는??? 앞으로 우리 애들은??? 씁쓸한 여운 \n",
      "\t\t\t\n",
      "\t\t\t\n",
      "\t\t\t\n",
      "\t\t\t\t\n",
      "\t\t\t\t\n",
      "\t\t\t\t\n",
      "\t\t\t\t<a class=\"report\" href=\"javascript:report('silv****', '8RJN0ysUqC+++TiQDxw1mDq5DZqnBugTV2b8msuahgk=', '휴유증이 큰 영화. 계속 곱씹게 되네요. 나의 위치는??? 앞으로 우리 애들은??? 씁쓸한 여운', '15804715', 'point_after');\" style=\"color:#8F8F8F\" title=\"새 창\">신고</a>\n",
      "</td>\n",
      "<td class=\"num\"><a class=\"author\" href=\"javascript:find_list('nickname','15804715','after');\">silv****</a><br/>19.06.13</td>\n",
      "</tr>\n",
      "<tr>\n",
      "<td class=\"ac num\">15804713</td>\n",
      "<td><div class=\"fr point_type_n\"><div class=\"mask\" style=\"width:10.0%\"></div></div></td>\n",
      "<td class=\"point\">1</td>\n",
      "<td class=\"title\">\n",
      "<a class=\"movie\" href=\"/movie/bi/mi/basic.nhn?code=161967\">기생충</a>\n",
      "<br/>평론가들평점은 거르는게 답이네 \n",
      "\t\t\t\n",
      "\t\t\t\n",
      "\t\t\t\n",
      "\t\t\t\t\n",
      "\t\t\t\t\n",
      "\t\t\t\t\n",
      "\t\t\t\t<a class=\"report\" href=\"javascript:report('snt1****', '99ckfmxOhUdVvHk9CRZznlt9WCUv0dow9POtOh2BwXw=', '평론가들평점은 거르는게 답이네  ', '15804713', 'point_after');\" style=\"color:#8F8F8F\" title=\"새 창\">신고</a>\n",
      "</td>\n",
      "<td class=\"num\"><a class=\"author\" href=\"javascript:find_list('nickname','15804713','after');\">snt1****</a><br/>19.06.13</td>\n",
      "</tr>\n",
      "</tbody>\n",
      "</colgroup></table>\n"
     ]
    }
   ],
   "source": [
    "# .은 class일때 부르는거\n",
    "tab = soup.select_one('.list_netizen')\n",
    "print(tab)"
   ]
  },
  {
   "cell_type": "code",
   "execution_count": 59,
   "metadata": {},
   "outputs": [],
   "source": [
    "def cleaning(txt):\n",
    "    txt = re.sub(re.compile('^기생충$', re.M), '', txt)\n",
    "    txt = re.sub(re.compile('^\\s+신고$', re.M), '', txt)\n",
    "    return txt.strip()"
   ]
  },
  {
   "cell_type": "code",
   "execution_count": 70,
   "metadata": {},
   "outputs": [],
   "source": [
    "res = []\n",
    "for pn in range(1, 4):\n",
    "    url = url.format(pn)\n",
    "    soup = get_soup(url)\n",
    "    tab = soup.select_one('.list_netizen')\n",
    "    for tr in tab.select('tr')[1:]:\n",
    "        point = tr.select_one('.point').text\n",
    "        cmt = tr.select_one('.title').text\n",
    "        cmt = cleaning(cmt)\n",
    "        res.append((point, cmt))"
   ]
  },
  {
   "cell_type": "code",
   "execution_count": 75,
   "metadata": {},
   "outputs": [],
   "source": [
    "soup = get_soup(url)"
   ]
  },
  {
   "cell_type": "code",
   "execution_count": 76,
   "metadata": {},
   "outputs": [],
   "source": [
    "tab = soup.select_one('.list_netizen')\n",
    "res = []\n",
    "for tr in tab.select('tr')[1:]:\n",
    "    point = tr.select_one('.point').text\n",
    "    cmt = tr.select_one('.title').text\n",
    "    cmt = cleaning(cmt)\n",
    "    res.append((point, cmt))"
   ]
  },
  {
   "cell_type": "code",
   "execution_count": 77,
   "metadata": {
    "scrolled": true
   },
   "outputs": [
    {
     "data": {
      "text/plain": [
       "[('10', '작품성이 뛰어난 영화 참 재미있게 잘 봤습니다.'),\n",
       " ('2',\n",
       "  '이거15세라뇨.   15세안본는거좋아요.    처음인데 끝나고.  기분이상합니다.   영화보고 기분좋아야되는대.    이상합니다.    평보고. 너무현실라고하는대.    저는라니라고봅니다'),\n",
       " ('10', '대중적인 오락영화는 아니었고 관람등급에도 의문은 가지만 깊이 있게 세상에 대해 생각해볼 수 있는 의미 있는 영화네요'),\n",
       " ('6', '주제가 뭔지 혼란스러움  보고나서 기분 안좋은 영'),\n",
       " ('8', '우리 사회축소판인 영화 너무 잘 만들어졌지만 갠적으론 왜 봤을까?? 라고 생각하게  만드는 영화 기분 구리게 만드는 영화'),\n",
       " ('10', '호불호가 갈리는 영화인듯한데요~전 갠적으로 재밌게 봤네요~절대진부하지않고 신세계였던 영화였어요~'),\n",
       " ('10', '비주얼과 연출, 재미, 신선함, 생각거리 모두 완벽합니다'),\n",
       " ('1', '그닥 보고나면 생각과 해석이 난무하지만 영화자체는 별로였다'),\n",
       " ('10', '재미있습니다. 생각을 많이 하게 되는 영화이면서 씁쓸한 웃음을 짓게 만드는거 같네요'),\n",
       " ('10', '이 영화 10점 안 주면 어떤 영화를 줘야하나...')]"
      ]
     },
     "execution_count": 77,
     "metadata": {},
     "output_type": "execute_result"
    }
   ],
   "source": [
    "res"
   ]
  },
  {
   "cell_type": "code",
   "execution_count": 79,
   "metadata": {},
   "outputs": [],
   "source": [
    "from konlpy.tag import Okt\n",
    "tagger = Okt()\n",
    "\n",
    "nouns = []\n",
    "for point, cmt in res:\n",
    "    nouns += tagger.nouns(cmt)\n",
    "    \n",
    "import collections\n",
    "freq_d = collections.Counter(nouns)"
   ]
  },
  {
   "cell_type": "code",
   "execution_count": 80,
   "metadata": {},
   "outputs": [
    {
     "name": "stdout",
     "output_type": "stream",
     "text": [
      "영화 12\n",
      "생각 5\n",
      "기분 4\n",
      "갠 2\n",
      "작품 1\n",
      "거 1\n",
      "세라 1\n",
      "뇨 1\n",
      "세안 1\n",
      "처음 1\n",
      "보고 1\n",
      "평보 1\n",
      "현실 1\n",
      "저 1\n",
      "대중 1\n",
      "오락 1\n",
      "관람 1\n",
      "등급 1\n",
      "의문 1\n",
      "가지 1\n",
      "깊이 1\n",
      "세상 1\n",
      "대해 1\n",
      "수 1\n",
      "의미 1\n",
      "주제가 1\n",
      "혼란 1\n",
      "움 1\n",
      "영 1\n",
      "우리 1\n",
      "사회 1\n",
      "축소 1\n",
      "판 1\n",
      "왜 1\n",
      "구리 1\n",
      "호불호 1\n",
      "영화인 1\n",
      "듯 1\n",
      "데 1\n",
      "전 1\n",
      "절대 1\n",
      "신세계 1\n",
      "비주 1\n",
      "얼 1\n",
      "연출 1\n",
      "재미 1\n",
      "거리 1\n",
      "모두 1\n",
      "그닥 1\n",
      "해석 1\n",
      "난무 1\n",
      "자체 1\n",
      "별로 1\n",
      "이면 1\n",
      "웃음 1\n",
      "이 1\n",
      "점 1\n",
      "안 1\n"
     ]
    }
   ],
   "source": [
    "for k,v in sorted(freq_d.items(), key=lambda x:x[1], reverse=1):\n",
    "    print(k,v)"
   ]
  },
  {
   "cell_type": "code",
   "execution_count": 81,
   "metadata": {},
   "outputs": [],
   "source": [
    "from keyness import log_likelihood"
   ]
  },
  {
   "cell_type": "code",
   "execution_count": null,
   "metadata": {},
   "outputs": [],
   "source": [
    "#기말고사는 퀴즈나 과제와 동일하게 값 다르게\n",
    "#과제랑 퀴즈 위주로 공부\n",
    "#과제에서 나온 컨셉 위주로"
   ]
  }
 ],
 "metadata": {
  "kernelspec": {
   "display_name": "Python 3",
   "language": "python",
   "name": "python3"
  },
  "language_info": {
   "codemirror_mode": {
    "name": "ipython",
    "version": 3
   },
   "file_extension": ".py",
   "mimetype": "text/x-python",
   "name": "python",
   "nbconvert_exporter": "python",
   "pygments_lexer": "ipython3",
   "version": "3.7.2"
  }
 },
 "nbformat": 4,
 "nbformat_minor": 2
}
