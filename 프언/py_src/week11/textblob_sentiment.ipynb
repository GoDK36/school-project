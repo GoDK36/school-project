{
 "cells": [
  {
   "cell_type": "code",
   "execution_count": 1,
   "metadata": {},
   "outputs": [
    {
     "data": {
      "text/plain": [
       "Sentiment(polarity=-1.0, subjectivity=0.9)"
      ]
     },
     "execution_count": 1,
     "metadata": {},
     "output_type": "execute_result"
    }
   ],
   "source": [
    "from textblob import TextBlob\n",
    "txt = 'I hate this class!'\n",
    "blob = TextBlob(txt)\n",
    "blob.sentiment"
   ]
  },
  {
   "cell_type": "code",
   "execution_count": 2,
   "metadata": {},
   "outputs": [],
   "source": [
    "#plority는 극성을 타나내는것 -1 ~ +1 인데 -1일에 가까울수록 부정\n",
    "#subjectivity는 감정과 상관있는 것인지 판단하는 기준.(주관성)\n"
   ]
  },
  {
   "cell_type": "code",
   "execution_count": 5,
   "metadata": {},
   "outputs": [
    {
     "name": "stdout",
     "output_type": "stream",
     "text": [
      "positive CLINTON: Well, thank you. Are you a teacher? Yes, I think that that’s a very good question, because I’ve heard from lots of teachers and parents about some of their concerns about some of the things that are being said and done in this campaign.\n",
      "positive But I want to do things that haven’t been done, including fixing and making our inner cities better for the African-American citizens that are so great, and for the Latinos, Hispanics, and I look forward to doing it. It’s called make America great again.\n",
      "positive TRUMP: I have great respect for women. Nobody has more respect for women than I do.\n",
      "positive TRUMP: Sounds fair.\n",
      "positive (APPLAUSE) And, look, if this were just about one video, maybe what he’s saying tonight would be understandable, but everyone can draw their own conclusions at this point about whether or not the man in the video or the man on the stage respects women. But he never apologizes for anything to anyone.\n",
      "negative When I speak, I go out and speak, the people of this country are furious. In my opinion, the people that have been long-term workers at the FBI are furious. There has never been anything like this, where e-mails — and you get a subpoena, you get a subpoena, and after getting the subpoena, you delete 33,000 e-mails, and then you acid wash them or bleach them, as you would say, very expensive process.\n",
      "positive TRUMP: It’s nice to — one on three.\n",
      "negative TRUMP: It is a disastrous plan, and it has to be repealed and replaced.\n",
      "positive We are not at war with Islam. And it is a mistake and it plays into the hands of the terrorists to act as though we are. So I want a country where citizens like you and your family are just as welcome as anyone else.\n",
      "positive I pay hundreds of millions of dollars in taxes. But — but as soon as my routine audit is finished, I’ll release my returns. I’ll be very proud to. They’re actually quite great.\n",
      "positive TRUMP: Well, one thing I’d do is get rid of carried interest. One of the greatest provisions for people like me, to be honest with you, I give up a lot when I run, because I knock out the tax code. And she could have done this years ago, by the way. She’s a United States — she was a United States senator.\n",
      "positive TRUMP: No, but I pay tax, and I pay federal tax, too. But I have a write-off, a lot of it’s depreciation, which is a wonderful charge. I love depreciation. You know, she’s given it to us.\n",
      "positive TRUMP: You could have done it, if you were an effective — if you were an effective senator, you could have done it. If you were an effective senator, you could have done it. But you were not an effective senator.\n",
      "negative CLINTON: No, I wasn’t. I was gone. I hate to interrupt you, but at some point…\n",
      "positive Obama draws the line in the sand. It was laughed at all over the world what happened.\n",
      "positive CLINTON: I hope by the time I am president that we will have pushed ISIS out of Iraq. I do think that there is a good chance that we can take Mosul. And, you know, Donald says he knows more about ISIS than the generals. No, he doesn’t.\n",
      "positive There are a lot of very important planning going on, and some of it is to signal to the Sunnis in the area, as well as Kurdish Peshmerga fighters, that we all need to be in this. And that takes a lot of planning and preparation.\n",
      "positive I would also consider arming the Kurds. The Kurds have been our best partners in Syria, as well as Iraq. And I know there’s a lot of concern about that in some circles, but I think they should have the equipment they need so that Kurdish and Arab fighters on the ground are the principal way that we take Raqqa after pushing ISIS out of Iraq.\n",
      "positive TRUMP: It’s really — it’s really very interesting.\n",
      "negative CLINTON: Well, within hours I said that I was sorry about the way I talked about that, because my argument is not with his supporters. It’s with him and with the hateful and divisive campaign that he has run, and the inciting of violence at his rallies, and the very brutal kinds of comments about not just women, but all Americans, all kinds of Americans.\n",
      "positive And what he has said about African-Americans and Latinos, about Muslims, about POWs, about immigrants, about people with disabilities, he’s never apologized for. And so I do think that a lot of the tone and tenor that he has said — I’m proud of the campaign that Bernie Sanders and I ran. We ran a campaign based on issues, not insults. And he is supporting me 100 percent.\n",
      "positive TRUMP: … but we believed that we could make the country better. And I was proud of that.\n",
      "positive TRUMP: No, there wasn’t check out a sex tape. It was just take a look at the person that she built up to be this wonderful Girl Scout who was no Girl Scout.\n",
      "positive COOPER: The question is, is that the discipline of a good leader?\n",
      "positive COOPER: Secretary Clinton, does Mr. Trump have the discipline to be a good leader?\n",
      "negative TRUMP: I’m shocked to hear that.\n",
      "positive And it’s not just because I worked with George W. Bush after 9/11, and I was very proud that when I told him what the city needed, what we needed to recover, he said you’ve got it, and he never wavered. He stuck with me.\n",
      "negative Now, Donald has put forth the names of some people that he would consider. And among the ones that he has suggested are people who would reverse Roe v. Wade and reverse marriage equality. I think that would be a terrible mistake and would take us backwards.\n",
      "positive I ask Hillary, why doesn’t — she made $250 million by being in office. She used the power of her office to make a lot of money. Why isn’t she funding, not for $100 million, but why don’t you put $10 million or $20 million or $25 million or $30 million into your own campaign?\n",
      "positive The EPA is so restrictive that they are putting our energy companies out of business. And all you have to do is go to a great place like West Virginia or places like Ohio, which is phenomenal, or places like Pennsylvania and you see what they’re doing to the people, miners and others in the energy business. It’s a disgrace.\n",
      "positive TRUMP: Well, I consider her statement about my children to be a very nice compliment. I don’t know if it was meant to be a compliment, but it is a great — I’m very proud of my children. And they’ve done a wonderful job, and they’ve been wonderful, wonderful kids. So I consider that a compliment.\n"
     ]
    }
   ],
   "source": [
    "with open(r\"D:\\GOD's folder\\자료\\대학교\\언어학\\프로그래밍 연습\\교수님 자료\\debate.txt\", 'r', encoding='utf8') as inF:\n",
    "    for line in inF:\n",
    "        blob = TextBlob(line)\n",
    "        res = blob.sentiment.polarity\n",
    "        if res < -0.5:\n",
    "            print('negative',line.strip())\n",
    "        elif res > 0.5:\n",
    "            print('positive', line.strip())"
   ]
  },
  {
   "cell_type": "code",
   "execution_count": null,
   "metadata": {},
   "outputs": [],
   "source": []
  }
 ],
 "metadata": {
  "kernelspec": {
   "display_name": "Python 3",
   "language": "python",
   "name": "python3"
  },
  "language_info": {
   "codemirror_mode": {
    "name": "ipython",
    "version": 3
   },
   "file_extension": ".py",
   "mimetype": "text/x-python",
   "name": "python",
   "nbconvert_exporter": "python",
   "pygments_lexer": "ipython3",
   "version": "3.7.2"
  }
 },
 "nbformat": 4,
 "nbformat_minor": 2
}
