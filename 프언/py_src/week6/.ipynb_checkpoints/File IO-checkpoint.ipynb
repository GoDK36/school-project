{
 "cells": [
  {
   "cell_type": "code",
   "execution_count": 34,
   "metadata": {},
   "outputs": [],
   "source": [
    "import json"
   ]
  },
  {
   "cell_type": "code",
   "execution_count": 48,
   "metadata": {},
   "outputs": [],
   "source": [
    "file = open('text.txt','w')"
   ]
  },
  {
   "cell_type": "code",
   "execution_count": 49,
   "metadata": {},
   "outputs": [],
   "source": [
    "file.write('abc\\n')\n",
    "file.write('123')\n",
    "file.close()"
   ]
  },
  {
   "cell_type": "code",
   "execution_count": 50,
   "metadata": {},
   "outputs": [
    {
     "name": "stdout",
     "output_type": "stream",
     "text": [
      "abc\n",
      "123\n"
     ]
    }
   ],
   "source": [
    "inF = open('text.txt', 'r')\n",
    "print(inF.read())"
   ]
  },
  {
   "cell_type": "code",
   "execution_count": 51,
   "metadata": {},
   "outputs": [
    {
     "data": {
      "text/plain": [
       "''"
      ]
     },
     "execution_count": 51,
     "metadata": {},
     "output_type": "execute_result"
    }
   ],
   "source": [
    "inF.read()\n",
    "# 이미 위에서 끝까지 다 읽은거여서 안나오는것임"
   ]
  },
  {
   "cell_type": "code",
   "execution_count": 53,
   "metadata": {},
   "outputs": [
    {
     "data": {
      "text/plain": [
       "['abc\\n', '123']"
      ]
     },
     "execution_count": 53,
     "metadata": {},
     "output_type": "execute_result"
    }
   ],
   "source": [
    "inF.seek(0)\n",
    "inF.readlines()"
   ]
  },
  {
   "cell_type": "code",
   "execution_count": 55,
   "metadata": {},
   "outputs": [
    {
     "name": "stdout",
     "output_type": "stream",
     "text": [
      "abc\n",
      "123\n"
     ]
    }
   ],
   "source": [
    "inF.seek(0)\n",
    "for line in inF.readlines():\n",
    "    line = line.rstrip()\n",
    "#     띄어쓰기나 빈공간 삭제\n",
    "    print(line)"
   ]
  },
  {
   "cell_type": "code",
   "execution_count": 65,
   "metadata": {},
   "outputs": [
    {
     "name": "stdout",
     "output_type": "stream",
     "text": [
      "abc\n",
      "\n",
      "123가나다\n",
      "\n",
      "다라마\n"
     ]
    }
   ],
   "source": [
    "inF = open(r\"D:\\GOD's folder\\자료\\대학교\\언어학\\프로그래밍 연습\\py_src\\week6\\text.txt\", 'r', encoding='ansi')\n",
    "for line in inF:\n",
    "    print(line)"
   ]
  },
  {
   "cell_type": "code",
   "execution_count": 56,
   "metadata": {},
   "outputs": [
    {
     "data": {
      "text/plain": [
       "3"
      ]
     },
     "execution_count": 56,
     "metadata": {},
     "output_type": "execute_result"
    }
   ],
   "source": [
    "aF = open('text.txt', 'a')\n",
    "aF.write('가나다')"
   ]
  },
  {
   "cell_type": "code",
   "execution_count": 57,
   "metadata": {},
   "outputs": [],
   "source": [
    "aF.close()"
   ]
  },
  {
   "cell_type": "code",
   "execution_count": 58,
   "metadata": {},
   "outputs": [],
   "source": [
    "aF = open('text.txt', 'a')\n",
    "aF.write('\\n다라마')\n",
    "aF.close()"
   ]
  },
  {
   "cell_type": "code",
   "execution_count": 79,
   "metadata": {},
   "outputs": [
    {
     "name": "stdout",
     "output_type": "stream",
     "text": [
      "abc\n",
      "123가나다\n",
      "다라마\n"
     ]
    }
   ],
   "source": [
    "with open('text.txt', 'r', encoding= 'ansi') as inF:\n",
    "    print(inF.read())"
   ]
  },
  {
   "cell_type": "code",
   "execution_count": 61,
   "metadata": {},
   "outputs": [],
   "source": [
    "with open('text2.txt', 'w', encoding='utf8') as outF:\n",
    "    outF.write('가나다라')"
   ]
  },
  {
   "cell_type": "code",
   "execution_count": 68,
   "metadata": {},
   "outputs": [],
   "source": [
    "with open(r\"D:\\GOD's folder\\자료\\대학교\\언어학\\프로그래밍 연습\\py_src\\week6\\atc1.txt\",'r', encoding= 'cp949') as inF:\n",
    "    atc1 = inF.read()\n",
    "    \n",
    "with open(r\"D:\\GOD's folder\\자료\\대학교\\언어학\\프로그래밍 연습\\py_src\\week6\\atc2.txt\",'r', encoding= 'cp949') as inF:\n",
    "    atc2 = inF.read()"
   ]
  },
  {
   "cell_type": "code",
   "execution_count": 69,
   "metadata": {},
   "outputs": [
    {
     "data": {
      "text/plain": [
       "'토트넘은 18일(한국시간) 영국 맨체스터 에티하드 스타디움에서 열린 맨체스터시티와의 2018~2019 UEFA 챔피언스리그 8강 2차전에서 3-4로 패했다. \\n\\n안방 1차전에서 1-0 승리를 챙긴 토트넘은 1,2차전 합계 4-4를 기록했으나 원정 다득점 원칙에 따라 4강 티켓의 주인공이 됐다. \\n\\n손흥민이 두 골을 터뜨리며 맹활약했다. \\n\\n포체티노 감독도 기뻐했다. 경기가 끝난 후 BT스포츠와 인터뷰에서 \"매우 자랑스럽고 기쁘다\"면서 \"우리 선수들은 내게 영웅이다. 팬들도 행복할 것\"이라고 했다.\\n\\n\"1,2차전 모두 치열했는데 그런 가운데 맨시티를 꺾었다는 것은 믿을 수 없는 일\"이라며 \"감독 경력 중 가장 중요하면서 최고의 순간 중 하나\"라고 미소를 띄웠다.\\n\\n이날 경기에서 두 차례의 VAR이 토트넘을 살렸다. 요렌테의 골과 경기 종료 직전 맨시티 라힘 스털링의 골 당시 오프사이드 장면을 정확히 판독했다. '"
      ]
     },
     "execution_count": 69,
     "metadata": {},
     "output_type": "execute_result"
    }
   ],
   "source": [
    "atc1"
   ]
  },
  {
   "cell_type": "code",
   "execution_count": 70,
   "metadata": {},
   "outputs": [
    {
     "data": {
      "text/plain": [
       "'과거 포체티노 감독은 VAR 판독에 대해 \"나는 좋아하지 않는다. VAR은 누구도 행복하게 하지 않는다\"고 반대 의사를 분명히 했다. \\n\\n그러나 이날은 \"VAR을 축구에 포함시키기로 한 결정은 축구라는 스포츠를 바꿀 것\"이라면서도 \"VAR을 신뢰해야한다\"고 말했다.\\n\\n당시 상황에서 \"머리 속에 정말 많은 생각이 들었고 실망했다\"는 그는 \"그래도 결정이 바뀌었다. 이게 우리가 축구를 좋아하는 이유\"라면서 \"오늘 우리만의 특성을 잘 보여줬다. 믿을 수 없는 경기를 했다\"고 웃었다.\\n\\n4강에 진출한 그는 이번 대회 \\'다크호스\\'인 아약스(네덜란드)와 결승행을 놓고 다툰다. 오는 30일 홈인 토트넘 홋스퍼 스타디움에서 1차전을 치른다.'"
      ]
     },
     "execution_count": 70,
     "metadata": {},
     "output_type": "execute_result"
    }
   ],
   "source": [
    "atc2"
   ]
  },
  {
   "cell_type": "code",
   "execution_count": 73,
   "metadata": {},
   "outputs": [],
   "source": [
    "txt = atc1 + '\\n' + atc2"
   ]
  },
  {
   "cell_type": "code",
   "execution_count": 75,
   "metadata": {},
   "outputs": [
    {
     "data": {
      "text/plain": [
       "'토트넘은 18일(한국시간) 영국 맨체스터 에티하드 스타디움에서 열린 맨체스터시티와의 2018~2019 UEFA 챔피언스리그 8강 2차전에서 3-4로 패했다. \\n\\n안방 1차전에서 1-0 승리를 챙긴 토트넘은 1,2차전 합계 4-4를 기록했으나 원정 다득점 원칙에 따라 4강 티켓의 주인공이 됐다. \\n\\n손흥민이 두 골을 터뜨리며 맹활약했다. \\n\\n포체티노 감독도 기뻐했다. 경기가 끝난 후 BT스포츠와 인터뷰에서 \"매우 자랑스럽고 기쁘다\"면서 \"우리 선수들은 내게 영웅이다. 팬들도 행복할 것\"이라고 했다.\\n\\n\"1,2차전 모두 치열했는데 그런 가운데 맨시티를 꺾었다는 것은 믿을 수 없는 일\"이라며 \"감독 경력 중 가장 중요하면서 최고의 순간 중 하나\"라고 미소를 띄웠다.\\n\\n이날 경기에서 두 차례의 VAR이 토트넘을 살렸다. 요렌테의 골과 경기 종료 직전 맨시티 라힘 스털링의 골 당시 오프사이드 장면을 정확히 판독했다. \\n과거 포체티노 감독은 VAR 판독에 대해 \"나는 좋아하지 않는다. VAR은 누구도 행복하게 하지 않는다\"고 반대 의사를 분명히 했다. \\n\\n그러나 이날은 \"VAR을 축구에 포함시키기로 한 결정은 축구라는 스포츠를 바꿀 것\"이라면서도 \"VAR을 신뢰해야한다\"고 말했다.\\n\\n당시 상황에서 \"머리 속에 정말 많은 생각이 들었고 실망했다\"는 그는 \"그래도 결정이 바뀌었다. 이게 우리가 축구를 좋아하는 이유\"라면서 \"오늘 우리만의 특성을 잘 보여줬다. 믿을 수 없는 경기를 했다\"고 웃었다.\\n\\n4강에 진출한 그는 이번 대회 \\'다크호스\\'인 아약스(네덜란드)와 결승행을 놓고 다툰다. 오는 30일 홈인 토트넘 홋스퍼 스타디움에서 1차전을 치른다.'"
      ]
     },
     "execution_count": 75,
     "metadata": {},
     "output_type": "execute_result"
    }
   ],
   "source": [
    "txt"
   ]
  },
  {
   "cell_type": "code",
   "execution_count": 76,
   "metadata": {},
   "outputs": [],
   "source": [
    "with open('atc.txt', 'w', encoding='utf8') as outF:\n",
    "    outF.write(txt)"
   ]
  },
  {
   "cell_type": "code",
   "execution_count": 77,
   "metadata": {},
   "outputs": [
    {
     "name": "stdout",
     "output_type": "stream",
     "text": [
      "180\n"
     ]
    }
   ],
   "source": [
    "with open('atc.txt', 'r', encoding='utf8') as inF:\n",
    "    print(len(inF.read().split()))"
   ]
  },
  {
   "cell_type": "code",
   "execution_count": null,
   "metadata": {},
   "outputs": [],
   "source": []
  }
 ],
 "metadata": {
  "kernelspec": {
   "display_name": "Python 3",
   "language": "python",
   "name": "python3"
  },
  "language_info": {
   "codemirror_mode": {
    "name": "ipython",
    "version": 3
   },
   "file_extension": ".py",
   "mimetype": "text/x-python",
   "name": "python",
   "nbconvert_exporter": "python",
   "pygments_lexer": "ipython3",
   "version": "3.7.2"
  }
 },
 "nbformat": 4,
 "nbformat_minor": 2
}
