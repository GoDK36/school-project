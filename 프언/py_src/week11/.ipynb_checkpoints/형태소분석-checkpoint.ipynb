{
 "cells": [
  {
   "cell_type": "code",
   "execution_count": 1,
   "metadata": {},
   "outputs": [],
   "source": [
    "#jupyter notebook에서 matplotlib 사용 결과가 실행되도록하는것.python과 상관 무\n",
    "%matplotlib inline"
   ]
  },
  {
   "cell_type": "code",
   "execution_count": 3,
   "metadata": {},
   "outputs": [],
   "source": [
    "from konlpy.tag import Komoran\n",
    "import nltk, re, os"
   ]
  },
  {
   "cell_type": "code",
   "execution_count": 8,
   "metadata": {},
   "outputs": [],
   "source": [
    "with open(r\"D:\\GOD's folder\\자료\\대학교\\언어학\\프로그래밍 연습\\교수님 자료\\4BE9901.txt\", 'r', encoding='utf8') as kr_f:\n",
    "    txt = kr_f.read()"
   ]
  },
  {
   "cell_type": "code",
   "execution_count": 9,
   "metadata": {},
   "outputs": [],
   "source": [
    "#형태소 분석\n",
    "tagger = Komoran()"
   ]
  },
  {
   "cell_type": "code",
   "execution_count": 10,
   "metadata": {},
   "outputs": [
    {
     "data": {
      "text/plain": [
       "[('저', 'NP'),\n",
       " ('는', 'JX'),\n",
       " ('평소', 'NNG'),\n",
       " ('에', 'JKB'),\n",
       " ('읽히', 'VV'),\n",
       " ('지', 'EC'),\n",
       " ('않', 'VX'),\n",
       " ('는', 'ETM'),\n",
       " ('책', 'NNG'),\n",
       " ('에', 'JKB'),\n",
       " ('대하', 'VV'),\n",
       " ('아서', 'EC'),\n",
       " ('늘', 'MAG'),\n",
       " ('안타깝', 'VA'),\n",
       " ('ㄴ', 'ETM'),\n",
       " ('마음', 'NNG'),\n",
       " ('을', 'JKO'),\n",
       " ('가지', 'VV'),\n",
       " ('고', 'EC'),\n",
       " ('있', 'VX'),\n",
       " ('었', 'EP'),\n",
       " ('습니다', 'EF'),\n",
       " ('.', 'SF'),\n",
       " ('어리', 'VA'),\n",
       " ('ㄹ', 'ETM'),\n",
       " ('적', 'NNB'),\n",
       " ('친구', 'NNG'),\n",
       " ('는', 'JX'),\n",
       " ('평생', 'NNG'),\n",
       " ('을', 'JKO'),\n",
       " ('가', 'VV'),\n",
       " ('ㄴ다는데', 'EC'),\n",
       " ('책', 'NNG'),\n",
       " ('처럼', 'JKB'),\n",
       " ('좋', 'VA'),\n",
       " ('은', 'ETM'),\n",
       " ('친구', 'NNG'),\n",
       " ('도', 'JX'),\n",
       " ('따로', 'MAG'),\n",
       " ('없', 'VA'),\n",
       " ('지요', 'EF'),\n",
       " ('.', 'SF'),\n",
       " ('제', 'XPN'),\n",
       " ('곁', 'NNG'),\n",
       " ('에', 'JKB'),\n",
       " ('도', 'JX'),\n",
       " ('손', 'NNG'),\n",
       " ('을', 'JKO'),\n",
       " ('꼭', 'MAG'),\n",
       " ('잡', 'VV'),\n",
       " ('고', 'EC'),\n",
       " ('함께', 'MAG'),\n",
       " ('길', 'NNG'),\n",
       " ('을', 'JKO')]"
      ]
     },
     "execution_count": 10,
     "metadata": {},
     "output_type": "execute_result"
    }
   ],
   "source": [
    "tagger.pos(txt[:100])"
   ]
  },
  {
   "cell_type": "code",
   "execution_count": 13,
   "metadata": {},
   "outputs": [],
   "source": [
    "tagged_list = []\n",
    "for line in txt.split('\\n'):\n",
    "    try:\n",
    "        tagged_list += tagger.pos(line)\n",
    "    except:\n",
    "        pass"
   ]
  },
  {
   "cell_type": "code",
   "execution_count": 14,
   "metadata": {},
   "outputs": [
    {
     "data": {
      "text/plain": [
       "[('저', 'NP'),\n",
       " ('는', 'JX'),\n",
       " ('평소', 'NNG'),\n",
       " ('에', 'JKB'),\n",
       " ('읽히', 'VV'),\n",
       " ('지', 'EC'),\n",
       " ('않', 'VX'),\n",
       " ('는', 'ETM'),\n",
       " ('책', 'NNG'),\n",
       " ('에', 'JKB'),\n",
       " ('대하', 'VV'),\n",
       " ('아서', 'EC'),\n",
       " ('늘', 'MAG'),\n",
       " ('안타깝', 'VA'),\n",
       " ('ㄴ', 'ETM'),\n",
       " ('마음', 'NNG'),\n",
       " ('을', 'JKO'),\n",
       " ('가지', 'VV'),\n",
       " ('고', 'EC'),\n",
       " ('있', 'VX'),\n",
       " ('었', 'EP'),\n",
       " ('습니다', 'EF'),\n",
       " ('.', 'SF'),\n",
       " ('어리', 'VA'),\n",
       " ('ㄹ', 'ETM'),\n",
       " ('적', 'NNB'),\n",
       " ('친구', 'NNG'),\n",
       " ('는', 'JX'),\n",
       " ('평생', 'NNG'),\n",
       " ('을', 'JKO'),\n",
       " ('가', 'VV'),\n",
       " ('ㄴ다는데', 'EC'),\n",
       " ('책', 'NNG'),\n",
       " ('처럼', 'JKB'),\n",
       " ('좋', 'VA'),\n",
       " ('은', 'ETM'),\n",
       " ('친구', 'NNG'),\n",
       " ('도', 'JX'),\n",
       " ('따로', 'MAG'),\n",
       " ('없', 'VA'),\n",
       " ('지요', 'EF'),\n",
       " ('.', 'SF'),\n",
       " ('제', 'XPN'),\n",
       " ('곁', 'NNG'),\n",
       " ('에', 'JKB'),\n",
       " ('도', 'JX'),\n",
       " ('손', 'NNG'),\n",
       " ('을', 'JKO'),\n",
       " ('꼭', 'MAG'),\n",
       " ('잡', 'VV'),\n",
       " ('고', 'EC'),\n",
       " ('함께', 'MAG'),\n",
       " ('길', 'NNG'),\n",
       " ('을', 'JKO'),\n",
       " ('걸어오', 'VV'),\n",
       " ('ㄴ', 'ETM'),\n",
       " ('몇몇', 'MM'),\n",
       " ('좋', 'VA'),\n",
       " ('은', 'ETM'),\n",
       " ('책', 'NNG'),\n",
       " ('친구', 'NNG'),\n",
       " ('들', 'XSN'),\n",
       " ('이', 'JKS'),\n",
       " ('있', 'VX'),\n",
       " ('습니다', 'EF'),\n",
       " ('.', 'SF'),\n",
       " ('책', 'NNG'),\n",
       " ('의', 'JKG'),\n",
       " ('향기', 'NNG'),\n",
       " ('는', 'JX'),\n",
       " ('어리', 'VA'),\n",
       " ('ㄴ', 'ETM'),\n",
       " ('시절', 'NNG'),\n",
       " ('한', 'MM'),\n",
       " ('번', 'NNB'),\n",
       " ('마음', 'NNG'),\n",
       " ('에', 'JKB'),\n",
       " ('깃들', 'VV'),\n",
       " ('면', 'EC'),\n",
       " ('영원히', 'MAG'),\n",
       " ('간직', 'NNG'),\n",
       " ('되', 'XSV'),\n",
       " ('ㅂ니다', 'EF'),\n",
       " ('.', 'SF'),\n",
       " ('책', 'NNG'),\n",
       " ('을', 'JKO'),\n",
       " ('친구', 'NNG'),\n",
       " ('로', 'JKB'),\n",
       " ('삼은', 'NNP'),\n",
       " ('사람', 'NNG'),\n",
       " ('은', 'JX'),\n",
       " ('인류', 'NNG'),\n",
       " ('의', 'JKG'),\n",
       " ('빛으로', 'NNP'),\n",
       " ('남', 'VV'),\n",
       " ('고', 'EC'),\n",
       " ('책', 'NNG'),\n",
       " ('의', 'JKG'),\n",
       " ('향기', 'NNG'),\n",
       " ('를', 'JKO')]"
      ]
     },
     "execution_count": 14,
     "metadata": {},
     "output_type": "execute_result"
    }
   ],
   "source": [
    "tagged_list[:100]"
   ]
  },
  {
   "cell_type": "code",
   "execution_count": 15,
   "metadata": {},
   "outputs": [],
   "source": [
    "def is_stopwords(tag):\n",
    "    if re.search('^[NV]', tag):\n",
    "        return False\n",
    "    else:\n",
    "        return True"
   ]
  },
  {
   "cell_type": "code",
   "execution_count": 16,
   "metadata": {},
   "outputs": [
    {
     "data": {
      "text/plain": [
       "True"
      ]
     },
     "execution_count": 16,
     "metadata": {},
     "output_type": "execute_result"
    }
   ],
   "source": [
    "is_stopwords('ETM')"
   ]
  },
  {
   "cell_type": "code",
   "execution_count": 17,
   "metadata": {},
   "outputs": [
    {
     "data": {
      "text/plain": [
       "False"
      ]
     },
     "execution_count": 17,
     "metadata": {},
     "output_type": "execute_result"
    }
   ],
   "source": [
    "is_stopwords('NNG')"
   ]
  },
  {
   "cell_type": "code",
   "execution_count": 19,
   "metadata": {},
   "outputs": [],
   "source": [
    "#불용어처리\n",
    "ctt_words =[]\n",
    "for morph, tag in tagged_list:\n",
    "    if is_stopwords(tag):\n",
    "        continue\n",
    "    ctt_words.append(morph)"
   ]
  },
  {
   "cell_type": "code",
   "execution_count": 20,
   "metadata": {},
   "outputs": [
    {
     "data": {
      "text/plain": [
       "['저',\n",
       " '평소',\n",
       " '읽히',\n",
       " '않',\n",
       " '책',\n",
       " '대하',\n",
       " '안타깝',\n",
       " '마음',\n",
       " '가지',\n",
       " '있',\n",
       " '어리',\n",
       " '적',\n",
       " '친구',\n",
       " '평생',\n",
       " '가',\n",
       " '책',\n",
       " '좋',\n",
       " '친구',\n",
       " '없',\n",
       " '곁',\n",
       " '손',\n",
       " '잡',\n",
       " '길',\n",
       " '걸어오',\n",
       " '좋',\n",
       " '책',\n",
       " '친구',\n",
       " '있',\n",
       " '책',\n",
       " '향기',\n",
       " '어리',\n",
       " '시절',\n",
       " '번',\n",
       " '마음',\n",
       " '깃들',\n",
       " '간직',\n",
       " '책',\n",
       " '친구',\n",
       " '삼은',\n",
       " '사람',\n",
       " '인류',\n",
       " '빛으로',\n",
       " '남',\n",
       " '책',\n",
       " '향기',\n",
       " '가슴',\n",
       " '지니',\n",
       " '사람',\n",
       " '인류',\n",
       " '역사',\n",
       " '속',\n",
       " '인물',\n",
       " '되',\n",
       " '우리',\n",
       " '기억',\n",
       " '이름',\n",
       " '가운데',\n",
       " '책',\n",
       " '사람',\n",
       " '사람',\n",
       " '없',\n",
       " '우리',\n",
       " '알',\n",
       " '못하',\n",
       " '많',\n",
       " '숨',\n",
       " '위인',\n",
       " '곁',\n",
       " '책',\n",
       " '놓이',\n",
       " '있',\n",
       " '요즘',\n",
       " '우리',\n",
       " '책',\n",
       " '모르',\n",
       " '숫자',\n",
       " '알',\n",
       " '컴퓨터',\n",
       " '알',\n",
       " '세상',\n",
       " '문',\n",
       " '열리',\n",
       " '것',\n",
       " '알',\n",
       " '있',\n",
       " '저희',\n",
       " '책',\n",
       " '어린이',\n",
       " '친구',\n",
       " '되',\n",
       " '주',\n",
       " '책',\n",
       " '향기',\n",
       " '어린이',\n",
       " '품성',\n",
       " '되',\n",
       " '바라',\n",
       " '마음',\n",
       " '새롭',\n",
       " '것']"
      ]
     },
     "execution_count": 20,
     "metadata": {},
     "output_type": "execute_result"
    }
   ],
   "source": [
    "ctt_words[:100]"
   ]
  },
  {
   "cell_type": "code",
   "execution_count": 25,
   "metadata": {},
   "outputs": [],
   "source": [
    "ctt_words_nltk= nltk.Text(ctt_words)"
   ]
  },
  {
   "cell_type": "code",
   "execution_count": 70,
   "metadata": {},
   "outputs": [],
   "source": [
    "#차트에 포시될 폰트\n",
    "import matplotlib.font_manager as fm\n",
    "import matplotlib\n",
    "\n",
    "font_path = r\"C:\\Windows\\Fonts\\HYGSRB.TTF\"\n",
    "font_name = fm.FontProperties(fname=font_path).get_name()\n",
    "matplotlib.rc('font', family=font_name)"
   ]
  },
  {
   "cell_type": "code",
   "execution_count": null,
   "metadata": {},
   "outputs": [],
   "source": []
  },
  {
   "cell_type": "code",
   "execution_count": 71,
   "metadata": {},
   "outputs": [
    {
     "data": {
      "image/png": "[encoded data removed]",
      "text/plain": [
       "<Figure size 432x288 with 1 Axes>"
      ]
     },
     "metadata": {
      "needs_background": "light"
     },
     "output_type": "display_data"
    }
   ],
   "source": [
    "ctt_words_nltk.plot(30)"
   ]
  },
  {
   "cell_type": "code",
   "execution_count": 39,
   "metadata": {},
   "outputs": [],
   "source": [
    "#용례검색\n",
    "morph_l = []\n",
    "for morph, tag in tagged_list:\n",
    "    morph_l.append(morph)"
   ]
  },
  {
   "cell_type": "code",
   "execution_count": 46,
   "metadata": {},
   "outputs": [],
   "source": [
    "morph_l = [morph for morph, tag in tagged_list]"
   ]
  },
  {
   "cell_type": "code",
   "execution_count": 47,
   "metadata": {},
   "outputs": [
    {
     "data": {
      "text/plain": [
       "<Text: 저 는 평소 에 읽히 지 않 는...>"
      ]
     },
     "execution_count": 47,
     "metadata": {},
     "output_type": "execute_result"
    }
   ],
   "source": [
    "nltk.Text(morph_l)"
   ]
  },
  {
   "cell_type": "code",
   "execution_count": 49,
   "metadata": {},
   "outputs": [],
   "source": [
    "txt_nltk = nltk.Text([morph for morph, tag in tagged_list])"
   ]
  },
  {
   "cell_type": "code",
   "execution_count": 52,
   "metadata": {},
   "outputs": [],
   "source": [
    "import collections\n",
    "freq_d = collections.Counter([morph for morph, tag in tagged_list])"
   ]
  },
  {
   "cell_type": "code",
   "execution_count": 54,
   "metadata": {},
   "outputs": [
    {
     "data": {
      "text/plain": [
       "[('저', 7), ('는', 342), ('평소', 2), ('에', 164)]"
      ]
     },
     "execution_count": 54,
     "metadata": {},
     "output_type": "execute_result"
    }
   ],
   "source": [
    "list(freq_d.items())[:4]\n",
    "#lambda는 function을 한줄에 작성하는것\n",
    "#reverse 내림차수정렬을 할건가"
   ]
  },
  {
   "cell_type": "code",
   "execution_count": 75,
   "metadata": {},
   "outputs": [
    {
     "ename": "ValueError",
     "evalue": "not enough values to unpack (expected 2, got 1)",
     "output_type": "error",
     "traceback": [
      "\u001b[1;31m---------------------------------------------------------------------------\u001b[0m",
      "\u001b[1;31mValueError\u001b[0m                                Traceback (most recent call last)",
      "\u001b[1;32m<ipython-input-75-4dd626b64066>\u001b[0m in \u001b[0;36m<module>\u001b[1;34m\u001b[0m\n\u001b[0;32m      1\u001b[0m \u001b[0mi\u001b[0m\u001b[1;33m=\u001b[0m \u001b[1;36m0\u001b[0m\u001b[1;33m\u001b[0m\u001b[1;33m\u001b[0m\u001b[0m\n\u001b[1;32m----> 2\u001b[1;33m \u001b[1;32mfor\u001b[0m \u001b[1;33m(\u001b[0m\u001b[0mmorph\u001b[0m\u001b[1;33m,\u001b[0m \u001b[0mtag\u001b[0m\u001b[1;33m)\u001b[0m\u001b[1;33m,\u001b[0m \u001b[0mfreq\u001b[0m \u001b[1;32min\u001b[0m \u001b[0msorted\u001b[0m\u001b[1;33m(\u001b[0m\u001b[0mfreq_d\u001b[0m\u001b[1;33m.\u001b[0m\u001b[0mitems\u001b[0m\u001b[1;33m(\u001b[0m\u001b[1;33m)\u001b[0m\u001b[1;33m,\u001b[0m \u001b[0mkey\u001b[0m\u001b[1;33m=\u001b[0m\u001b[1;32mlambda\u001b[0m \u001b[0mx\u001b[0m\u001b[1;33m:\u001b[0m\u001b[0mx\u001b[0m\u001b[1;33m[\u001b[0m\u001b[1;36m1\u001b[0m\u001b[1;33m]\u001b[0m\u001b[1;33m,\u001b[0m \u001b[0mreverse\u001b[0m\u001b[1;33m=\u001b[0m\u001b[1;36m1\u001b[0m\u001b[1;33m)\u001b[0m\u001b[1;33m:\u001b[0m\u001b[1;33m\u001b[0m\u001b[1;33m\u001b[0m\u001b[0m\n\u001b[0m\u001b[0;32m      3\u001b[0m     \u001b[1;32mif\u001b[0m \u001b[0mtag\u001b[0m \u001b[1;33m==\u001b[0m \u001b[1;34m'NNG'\u001b[0m\u001b[1;33m:\u001b[0m\u001b[1;33m\u001b[0m\u001b[1;33m\u001b[0m\u001b[0m\n\u001b[0;32m      4\u001b[0m         \u001b[0mprint\u001b[0m\u001b[1;33m(\u001b[0m\u001b[0mmorph\u001b[0m\u001b[1;33m,\u001b[0m \u001b[0mfreq\u001b[0m\u001b[1;33m)\u001b[0m\u001b[1;33m\u001b[0m\u001b[1;33m\u001b[0m\u001b[0m\n\u001b[0;32m      5\u001b[0m         \u001b[0mi\u001b[0m \u001b[1;33m+=\u001b[0m \u001b[1;36m1\u001b[0m\u001b[1;33m\u001b[0m\u001b[1;33m\u001b[0m\u001b[0m\n",
      "\u001b[1;31mValueError\u001b[0m: not enough values to unpack (expected 2, got 1)"
     ]
    }
   ],
   "source": [
    "i= 0\n",
    "for (morph, tag), freq in sorted(freq_d.items(), key=lambda x:x[1], reverse=1):\n",
    "    if tag == 'NNG':\n",
    "        print(morph, freq)\n",
    "        i += 1\n",
    "    if 1 == 10:\n",
    "        break"
   ]
  },
  {
   "cell_type": "code",
   "execution_count": 65,
   "metadata": {},
   "outputs": [
    {
     "name": "stdout",
     "output_type": "stream",
     "text": [
      "Displaying 36 of 36 matches:\n",
      " 한 부자 영감 옛날 어느 곳 에 돈 많 은 부자 영감 이 살 고 있 \n",
      " 도 많이 갖 고 있 었 지요 . 돈 이 많 은 것 으로 치 면 세상 \n",
      " 은 홀아비 이 었 거든요 . ' 돈 이 많 으면 뭘 하 아 . 같이 \n",
      " 라 . 거 참 잘 되 었 다 . 돈 많 은 내 가 가난뱅이 를 아내 \n",
      " 먹 기 지 . ＂ 부자 영감 은 돈 만 있 으면 무엇 이 든 하 ㄹ \n",
      "삼 겠 다니요 . 더군다나 나 를 돈 으로 살 ㄹ 수 있 는 물건 으로\n",
      "리 시 어요 . ＂ 농부 는 그만 돈 에 눈 이 멀 어 자기 딸 이 불\n",
      " 어 버리 었 답니다 . 아내 는 돈 으로 구하 ㄹ 수 없 으며 ， 결\n",
      " 예요 . 나 음 터 세상 에 는 돈 으로 살 ㄹ 수 없는， 가치 있 \n",
      "니다 . 만약 ， 농부 의 딸 이 돈 에 눈 이 어둡 어 부자 영감 과\n",
      "부자 가 있 었 답니다 . 어찌나 돈 을 좋아하 는지 사람 들 은 그 \n",
      "아하 는지 사람 들 은 그 를 ' 돈 보 ' 라고 부르 었 어요 . 먹\n",
      "보 ' 라고 하 듯이 말 예요 . 돈 보 는 놀부 보다 도 더 심술궂 \n",
      " 몹시 싫어하 았 어요 . 하지만 돈 보 는 사람 들 이 자기 를 좋아\n",
      " 어요 . 그 도 그렇 ㄹ 것 이 돈 보 의 주변 에 는 아첨 하 는 \n",
      " 사람 들 로 득시글거렸으니까요. 돈 보 는 자기 에게 듣 기 싫 은 \n",
      " 었 지요 . 젊은이 는 더 이상 돈 보 의 행패 를 보 고 만 있 을\n",
      " 가 아 없 었 어요 . ＂ 이제 돈 보 와 담판 을 지 을 때 가 오\n",
      " 을 맡기 기 로 하 았 어요 . 돈 보 의 집 에 도착 하 ㄴ 젊은이\n",
      " 이 냐 ? 썩 꺼지 어라 . ＂ 돈 보 집 의 머슴 은 들 고 있 던\n",
      "왜 이리 시끄럽 어 ? ＂ 마침내 돈 보 가 나오 아 소리치 었 어요 \n",
      " . ＂ 신선 풀 이 라니 ? ＂ 돈 보 는 귀 가 솔깃 하 아 지 어\n",
      " . 젊은이 의 눈치 를 살피 던 돈 보 는 대뜸 큰소리 를 치 었 습\n",
      "냥 과 바꾸 지 않 겠 나 ? ＂ 돈 보 는 애쓰 어 부드럽 ㄴ 목소리\n",
      ". ＂ 잠시 생각 에 잠기 었 던 돈 보 는 젊은이 의 뜻 에 따르 기\n",
      "는 까치집 에서 풀잎 을 꺼내 어 돈 보 에게 주 었 어요 . 사실 ，\n",
      ". 그리고 마을 사람 들 과 함께 돈 보 를 골리 어 주 기 로 단단히\n",
      " 았 어요 . 신선 풀 을 먹 은 돈 보 는 길거리 를 다니 는 사람 \n",
      " 보이 어 ? 안 보이 어 ? ＂ 돈 보 는 눈 을 왕 방울 만 하 게\n",
      " 않 고 길 을 가 았 답니다 . 돈 보 는 읍내 로 가 아서 과일 가\n",
      "습니다 . 물론 과일 집 주인 도 돈 보 가 보이 지 않 는 것 처럼 \n",
      " 있 었 어요 . 재미 가 붙 은 돈 보 는 이번 에 는 이웃 마을 로\n",
      " 마음씨 고약 하 고 욕심 많 은 돈 보 는 곤장 을 100 대 나 맞\n",
      "아침 에 무엇 을 이루 려다가 ' 돈 보 ' 처럼 되 기 십상 이 지요\n",
      "아 보 시 어요 . 젊은이 는 왜 돈 보 에게 금 과 은 대신 에 쌀 \n",
      " 쌀 을 달 라고 하 았 나요 ? 돈 보 가 사또 집 에 들어가 아서 \n",
      "None\n"
     ]
    }
   ],
   "source": [
    "print(txt_nltk.concordance('돈', width =40, lines=100))"
   ]
  },
  {
   "cell_type": "code",
   "execution_count": 72,
   "metadata": {},
   "outputs": [
    {
     "data": {
      "image/png": "[encoded data removed]",
      "text/plain": [
       "<Figure size 432x288 with 1 Axes>"
      ]
     },
     "metadata": {
      "needs_background": "light"
     },
     "output_type": "display_data"
    }
   ],
   "source": [
    "txt_nltk.dispersion_plot(['돈'])"
   ]
  },
  {
   "cell_type": "code",
   "execution_count": null,
   "metadata": {},
   "outputs": [],
   "source": []
  }
 ],
 "metadata": {
  "kernelspec": {
   "display_name": "Python 3",
   "language": "python",
   "name": "python3"
  },
  "language_info": {
   "codemirror_mode": {
    "name": "ipython",
    "version": 3
   },
   "file_extension": ".py",
   "mimetype": "text/x-python",
   "name": "python",
   "nbconvert_exporter": "python",
   "pygments_lexer": "ipython3",
   "version": "3.7.2"
  }
 },
 "nbformat": 4,
 "nbformat_minor": 2
}
