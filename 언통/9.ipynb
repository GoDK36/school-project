{
 "cells": [
  {
   "cell_type": "code",
   "execution_count": 6,
   "metadata": {},
   "outputs": [],
   "source": [
    "import tensorflow as tf\n",
    "import numpy as np"
   ]
  },
  {
   "cell_type": "code",
   "execution_count": 7,
   "metadata": {},
   "outputs": [],
   "source": [
    "idx2char = ['h', 'e', 'l', 'o', 'w']\n",
    "\n",
    "x_data = [[0, 1, 2, 2, 3, 4]]   \n",
    "x_one_hot = [[[1, 0, 0, 0, 0], \n",
    "              [0, 1, 0, 0, 0], \n",
    "              [0, 0, 1, 0, 0], \n",
    "              [0, 0, 1, 0, 0], \n",
    "              [0, 0, 0, 1, 0], \n",
    "              [0, 0, 0, 0, 1]]]\n",
    "\n",
    "y_data = [[4, 3, 2, 2, 1, 0]]"
   ]
  },
  {
   "cell_type": "code",
   "execution_count": 8,
   "metadata": {},
   "outputs": [],
   "source": [
    "num_classes = 5\n",
    "input_dim = 5  \n",
    "hidden_size = 5  \n",
    "batch_size = 1 \n",
    "sequence_length = 6\n",
    "learning_rate = 0.1"
   ]
  },
  {
   "cell_type": "code",
   "execution_count": 9,
   "metadata": {},
   "outputs": [],
   "source": [
    "X = tf.placeholder(\n",
    "    tf.float32, [None, sequence_length, input_dim]) \n",
    "Y = tf.placeholder(tf.int32, [None, sequence_length]) "
   ]
  },
  {
   "cell_type": "code",
   "execution_count": 10,
   "metadata": {},
   "outputs": [
    {
     "name": "stdout",
     "output_type": "stream",
     "text": [
      "WARNING:tensorflow:\n",
      "The TensorFlow contrib module will not be included in TensorFlow 2.0.\n",
      "For more information, please see:\n",
      "  * https://github.com/tensorflow/community/blob/master/rfcs/20180907-contrib-sunset.md\n",
      "  * https://github.com/tensorflow/addons\n",
      "  * https://github.com/tensorflow/io (for I/O related ops)\n",
      "If you depend on functionality not listed there, please file an issue.\n",
      "\n",
      "WARNING:tensorflow:From <ipython-input-10-15522055987a>:1: BasicLSTMCell.__init__ (from tensorflow.python.ops.rnn_cell_impl) is deprecated and will be removed in a future version.\n",
      "Instructions for updating:\n",
      "This class is equivalent as tf.keras.layers.LSTMCell, and will be replaced by that in Tensorflow 2.0.\n",
      "WARNING:tensorflow:From <ipython-input-10-15522055987a>:4: dynamic_rnn (from tensorflow.python.ops.rnn) is deprecated and will be removed in a future version.\n",
      "Instructions for updating:\n",
      "Please use `keras.layers.RNN(cell)`, which is equivalent to this API\n",
      "WARNING:tensorflow:From C:\\Users\\ehrme\\miniconda3\\envs\\2020\\lib\\site-packages\\tensorflow\\python\\ops\\init_ops.py:1251: calling VarianceScaling.__init__ (from tensorflow.python.ops.init_ops) with dtype is deprecated and will be removed in a future version.\n",
      "Instructions for updating:\n",
      "Call initializer instance with the dtype argument instead of passing it to the constructor\n",
      "WARNING:tensorflow:From C:\\Users\\ehrme\\miniconda3\\envs\\2020\\lib\\site-packages\\tensorflow\\python\\ops\\rnn_cell_impl.py:738: calling Zeros.__init__ (from tensorflow.python.ops.init_ops) with dtype is deprecated and will be removed in a future version.\n",
      "Instructions for updating:\n",
      "Call initializer instance with the dtype argument instead of passing it to the constructor\n",
      "WARNING:tensorflow:Entity <bound method BasicLSTMCell.call of <tensorflow.python.ops.rnn_cell_impl.BasicLSTMCell object at 0x0000022E813BC4C8>> could not be transformed and will be executed as-is. Please report this to the AutgoGraph team. When filing the bug, set the verbosity to 10 (on Linux, `export AUTOGRAPH_VERBOSITY=10`) and attach the full output. Cause: converting <bound method BasicLSTMCell.call of <tensorflow.python.ops.rnn_cell_impl.BasicLSTMCell object at 0x0000022E813BC4C8>>: AssertionError: Bad argument number for Name: 3, expecting 4\n",
      "WARNING: Entity <bound method BasicLSTMCell.call of <tensorflow.python.ops.rnn_cell_impl.BasicLSTMCell object at 0x0000022E813BC4C8>> could not be transformed and will be executed as-is. Please report this to the AutgoGraph team. When filing the bug, set the verbosity to 10 (on Linux, `export AUTOGRAPH_VERBOSITY=10`) and attach the full output. Cause: converting <bound method BasicLSTMCell.call of <tensorflow.python.ops.rnn_cell_impl.BasicLSTMCell object at 0x0000022E813BC4C8>>: AssertionError: Bad argument number for Name: 3, expecting 4\n"
     ]
    }
   ],
   "source": [
    "cell = tf.contrib.rnn.BasicLSTMCell(num_units=hidden_size, state_is_tuple=True)\n",
    "initial_state = cell.zero_state(batch_size, tf.float32)\n",
    "outputs, _states = tf.nn.dynamic_rnn(\n",
    "    cell, X, initial_state=initial_state, dtype=tf.float32)"
   ]
  },
  {
   "cell_type": "code",
   "execution_count": 11,
   "metadata": {},
   "outputs": [
    {
     "name": "stdout",
     "output_type": "stream",
     "text": [
      "WARNING:tensorflow:Entity <bound method Dense.call of <tensorflow.python.layers.core.Dense object at 0x0000022E8315EB88>> could not be transformed and will be executed as-is. Please report this to the AutgoGraph team. When filing the bug, set the verbosity to 10 (on Linux, `export AUTOGRAPH_VERBOSITY=10`) and attach the full output. Cause: converting <bound method Dense.call of <tensorflow.python.layers.core.Dense object at 0x0000022E8315EB88>>: AssertionError: Bad argument number for Name: 3, expecting 4\n",
      "WARNING: Entity <bound method Dense.call of <tensorflow.python.layers.core.Dense object at 0x0000022E8315EB88>> could not be transformed and will be executed as-is. Please report this to the AutgoGraph team. When filing the bug, set the verbosity to 10 (on Linux, `export AUTOGRAPH_VERBOSITY=10`) and attach the full output. Cause: converting <bound method Dense.call of <tensorflow.python.layers.core.Dense object at 0x0000022E8315EB88>>: AssertionError: Bad argument number for Name: 3, expecting 4\n"
     ]
    }
   ],
   "source": [
    "X_for_fc = tf.reshape(outputs, [-1, hidden_size])\n",
    "outputs = tf.contrib.layers.fully_connected(\n",
    "    inputs=X_for_fc, num_outputs=num_classes, activation_fn=None)\n",
    "outputs = tf.reshape(outputs, [batch_size, sequence_length, num_classes])"
   ]
  },
  {
   "cell_type": "code",
   "execution_count": 14,
   "metadata": {},
   "outputs": [],
   "source": [
    "weights = tf.ones([batch_size, sequence_length])\n",
    "sequence_loss = tf.contrib.seq2seq.sequence_loss(\n",
    "    logits=outputs, targets=Y, weights=weights)\n",
    "loss = tf.reduce_mean(sequence_loss)\n",
    "train = tf.train.AdamOptimizer(learning_rate=learning_rate).minimize(loss)\n",
    "\n",
    "prediction = tf.argmax(outputs, axis=2)"
   ]
  },
  {
   "cell_type": "code",
   "execution_count": 15,
   "metadata": {},
   "outputs": [
    {
     "name": "stdout",
     "output_type": "stream",
     "text": [
      "0 loss: 1.5632424 prediction:  [[2 2 2 2 2 2]] true Y:  [[4, 3, 2, 2, 1, 0]]\n",
      "\tPrediction str:  llllll\n",
      "1 loss: 1.4229552 prediction:  [[2 2 2 2 2 2]] true Y:  [[4, 3, 2, 2, 1, 0]]\n",
      "\tPrediction str:  llllll\n",
      "2 loss: 1.2803246 prediction:  [[2 2 2 2 2 0]] true Y:  [[4, 3, 2, 2, 1, 0]]\n",
      "\tPrediction str:  lllllh\n",
      "3 loss: 1.1173099 prediction:  [[2 3 2 2 2 0]] true Y:  [[4, 3, 2, 2, 1, 0]]\n",
      "\tPrediction str:  lolllh\n",
      "4 loss: 0.93694776 prediction:  [[3 3 2 2 1 0]] true Y:  [[4, 3, 2, 2, 1, 0]]\n",
      "\tPrediction str:  oolleh\n",
      "5 loss: 0.7667115 prediction:  [[4 3 2 2 1 0]] true Y:  [[4, 3, 2, 2, 1, 0]]\n",
      "\tPrediction str:  wolleh\n",
      "6 loss: 0.6307346 prediction:  [[4 3 2 2 1 0]] true Y:  [[4, 3, 2, 2, 1, 0]]\n",
      "\tPrediction str:  wolleh\n",
      "7 loss: 0.5245328 prediction:  [[4 3 2 2 1 0]] true Y:  [[4, 3, 2, 2, 1, 0]]\n",
      "\tPrediction str:  wolleh\n",
      "8 loss: 0.42917225 prediction:  [[4 3 2 2 1 0]] true Y:  [[4, 3, 2, 2, 1, 0]]\n",
      "\tPrediction str:  wolleh\n",
      "9 loss: 0.3417295 prediction:  [[4 3 2 2 1 0]] true Y:  [[4, 3, 2, 2, 1, 0]]\n",
      "\tPrediction str:  wolleh\n",
      "10 loss: 0.26857045 prediction:  [[4 3 2 2 1 0]] true Y:  [[4, 3, 2, 2, 1, 0]]\n",
      "\tPrediction str:  wolleh\n",
      "11 loss: 0.2110852 prediction:  [[4 3 2 2 1 0]] true Y:  [[4, 3, 2, 2, 1, 0]]\n",
      "\tPrediction str:  wolleh\n",
      "12 loss: 0.1667258 prediction:  [[4 3 2 2 1 0]] true Y:  [[4, 3, 2, 2, 1, 0]]\n",
      "\tPrediction str:  wolleh\n",
      "13 loss: 0.13181439 prediction:  [[4 3 2 2 1 0]] true Y:  [[4, 3, 2, 2, 1, 0]]\n",
      "\tPrediction str:  wolleh\n",
      "14 loss: 0.103798516 prediction:  [[4 3 2 2 1 0]] true Y:  [[4, 3, 2, 2, 1, 0]]\n",
      "\tPrediction str:  wolleh\n",
      "15 loss: 0.081485175 prediction:  [[4 3 2 2 1 0]] true Y:  [[4, 3, 2, 2, 1, 0]]\n",
      "\tPrediction str:  wolleh\n",
      "16 loss: 0.06412628 prediction:  [[4 3 2 2 1 0]] true Y:  [[4, 3, 2, 2, 1, 0]]\n",
      "\tPrediction str:  wolleh\n",
      "17 loss: 0.050895806 prediction:  [[4 3 2 2 1 0]] true Y:  [[4, 3, 2, 2, 1, 0]]\n",
      "\tPrediction str:  wolleh\n",
      "18 loss: 0.040894765 prediction:  [[4 3 2 2 1 0]] true Y:  [[4, 3, 2, 2, 1, 0]]\n",
      "\tPrediction str:  wolleh\n",
      "19 loss: 0.033308055 prediction:  [[4 3 2 2 1 0]] true Y:  [[4, 3, 2, 2, 1, 0]]\n",
      "\tPrediction str:  wolleh\n",
      "20 loss: 0.027495163 prediction:  [[4 3 2 2 1 0]] true Y:  [[4, 3, 2, 2, 1, 0]]\n",
      "\tPrediction str:  wolleh\n",
      "21 loss: 0.022987476 prediction:  [[4 3 2 2 1 0]] true Y:  [[4, 3, 2, 2, 1, 0]]\n",
      "\tPrediction str:  wolleh\n",
      "22 loss: 0.01944807 prediction:  [[4 3 2 2 1 0]] true Y:  [[4, 3, 2, 2, 1, 0]]\n",
      "\tPrediction str:  wolleh\n",
      "23 loss: 0.01663284 prediction:  [[4 3 2 2 1 0]] true Y:  [[4, 3, 2, 2, 1, 0]]\n",
      "\tPrediction str:  wolleh\n",
      "24 loss: 0.014366153 prediction:  [[4 3 2 2 1 0]] true Y:  [[4, 3, 2, 2, 1, 0]]\n",
      "\tPrediction str:  wolleh\n",
      "25 loss: 0.012523363 prediction:  [[4 3 2 2 1 0]] true Y:  [[4, 3, 2, 2, 1, 0]]\n",
      "\tPrediction str:  wolleh\n",
      "26 loss: 0.011015032 prediction:  [[4 3 2 2 1 0]] true Y:  [[4, 3, 2, 2, 1, 0]]\n",
      "\tPrediction str:  wolleh\n",
      "27 loss: 0.009773512 prediction:  [[4 3 2 2 1 0]] true Y:  [[4, 3, 2, 2, 1, 0]]\n",
      "\tPrediction str:  wolleh\n",
      "28 loss: 0.008745232 prediction:  [[4 3 2 2 1 0]] true Y:  [[4, 3, 2, 2, 1, 0]]\n",
      "\tPrediction str:  wolleh\n",
      "29 loss: 0.007886956 prediction:  [[4 3 2 2 1 0]] true Y:  [[4, 3, 2, 2, 1, 0]]\n",
      "\tPrediction str:  wolleh\n",
      "30 loss: 0.007164717 prediction:  [[4 3 2 2 1 0]] true Y:  [[4, 3, 2, 2, 1, 0]]\n",
      "\tPrediction str:  wolleh\n",
      "31 loss: 0.006551989 prediction:  [[4 3 2 2 1 0]] true Y:  [[4, 3, 2, 2, 1, 0]]\n",
      "\tPrediction str:  wolleh\n",
      "32 loss: 0.0060290657 prediction:  [[4 3 2 2 1 0]] true Y:  [[4, 3, 2, 2, 1, 0]]\n",
      "\tPrediction str:  wolleh\n",
      "33 loss: 0.005580317 prediction:  [[4 3 2 2 1 0]] true Y:  [[4, 3, 2, 2, 1, 0]]\n",
      "\tPrediction str:  wolleh\n",
      "34 loss: 0.0051931967 prediction:  [[4 3 2 2 1 0]] true Y:  [[4, 3, 2, 2, 1, 0]]\n",
      "\tPrediction str:  wolleh\n",
      "35 loss: 0.004857103 prediction:  [[4 3 2 2 1 0]] true Y:  [[4, 3, 2, 2, 1, 0]]\n",
      "\tPrediction str:  wolleh\n",
      "36 loss: 0.0045633893 prediction:  [[4 3 2 2 1 0]] true Y:  [[4, 3, 2, 2, 1, 0]]\n",
      "\tPrediction str:  wolleh\n",
      "37 loss: 0.0043046903 prediction:  [[4 3 2 2 1 0]] true Y:  [[4, 3, 2, 2, 1, 0]]\n",
      "\tPrediction str:  wolleh\n",
      "38 loss: 0.004075447 prediction:  [[4 3 2 2 1 0]] true Y:  [[4, 3, 2, 2, 1, 0]]\n",
      "\tPrediction str:  wolleh\n",
      "39 loss: 0.003871327 prediction:  [[4 3 2 2 1 0]] true Y:  [[4, 3, 2, 2, 1, 0]]\n",
      "\tPrediction str:  wolleh\n",
      "40 loss: 0.0036887375 prediction:  [[4 3 2 2 1 0]] true Y:  [[4, 3, 2, 2, 1, 0]]\n",
      "\tPrediction str:  wolleh\n",
      "41 loss: 0.0035249486 prediction:  [[4 3 2 2 1 0]] true Y:  [[4, 3, 2, 2, 1, 0]]\n",
      "\tPrediction str:  wolleh\n",
      "42 loss: 0.0033774835 prediction:  [[4 3 2 2 1 0]] true Y:  [[4, 3, 2, 2, 1, 0]]\n",
      "\tPrediction str:  wolleh\n",
      "43 loss: 0.0032440803 prediction:  [[4 3 2 2 1 0]] true Y:  [[4, 3, 2, 2, 1, 0]]\n",
      "\tPrediction str:  wolleh\n",
      "44 loss: 0.003123089 prediction:  [[4 3 2 2 1 0]] true Y:  [[4, 3, 2, 2, 1, 0]]\n",
      "\tPrediction str:  wolleh\n",
      "45 loss: 0.0030127584 prediction:  [[4 3 2 2 1 0]] true Y:  [[4, 3, 2, 2, 1, 0]]\n",
      "\tPrediction str:  wolleh\n",
      "46 loss: 0.0029118897 prediction:  [[4 3 2 2 1 0]] true Y:  [[4, 3, 2, 2, 1, 0]]\n",
      "\tPrediction str:  wolleh\n",
      "47 loss: 0.0028193034 prediction:  [[4 3 2 2 1 0]] true Y:  [[4, 3, 2, 2, 1, 0]]\n",
      "\tPrediction str:  wolleh\n",
      "48 loss: 0.002734175 prediction:  [[4 3 2 2 1 0]] true Y:  [[4, 3, 2, 2, 1, 0]]\n",
      "\tPrediction str:  wolleh\n",
      "49 loss: 0.0026556787 prediction:  [[4 3 2 2 1 0]] true Y:  [[4, 3, 2, 2, 1, 0]]\n",
      "\tPrediction str:  wolleh\n"
     ]
    }
   ],
   "source": [
    "with tf.Session() as sess:\n",
    "    sess.run(tf.global_variables_initializer())\n",
    "    for i in range(50):\n",
    "        l, _ = sess.run([loss, train], feed_dict={X: x_one_hot, Y: y_data})\n",
    "        result = sess.run(prediction, feed_dict={X: x_one_hot})\n",
    "        print(i, \"loss:\", l, \"prediction: \", result, \"true Y: \", y_data)\n",
    "\n",
    "        # print char using dic\n",
    "        result_str = [idx2char[c] for c in np.squeeze(result)]\n",
    "        print(\"\\tPrediction str: \", ''.join(result_str))"
   ]
  },
  {
   "cell_type": "code",
   "execution_count": null,
   "metadata": {},
   "outputs": [],
   "source": []
  }
 ],
 "metadata": {
  "kernelspec": {
   "display_name": "Python 3",
   "language": "python",
   "name": "python3"
  },
  "language_info": {
   "codemirror_mode": {
    "name": "ipython",
    "version": 3
   },
   "file_extension": ".py",
   "mimetype": "text/x-python",
   "name": "python",
   "nbconvert_exporter": "python",
   "pygments_lexer": "ipython3",
   "version": "3.7.7"
  }
 },
 "nbformat": 4,
 "nbformat_minor": 4
}
