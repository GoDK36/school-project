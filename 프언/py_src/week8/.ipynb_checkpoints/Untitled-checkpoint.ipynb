{
 "cells": [
  {
   "cell_type": "code",
   "execution_count": 1,
   "metadata": {},
   "outputs": [],
   "source": [
    "import os"
   ]
  },
  {
   "cell_type": "code",
   "execution_count": 26,
   "metadata": {},
   "outputs": [
    {
     "name": "stdout",
     "output_type": "stream",
     "text": [
      "599734\n"
     ]
    }
   ],
   "source": [
    "cnt1 = 0\n",
    "cnt2 = 0\n",
    "total = 0\n",
    "with open('stat.txt', 'w', encoding='utf8') as outF:\n",
    "    outF.write('File Name\\tsize\\n')\n",
    "    for dirpath, dirs, files in os.walk(r\"D:\\GOD's folder\\자료\\대학교\\언어학\\프로그래밍 연습\\교수님 자료\\corpus_sample\"):\n",
    "        for fn in files:\n",
    "            cnt1 += 1\n",
    "            with open(os.path.join(dirpath, fn), 'r', encoding='cp949') as inF:\n",
    "                try:\n",
    "                    size = len(inF.readlines())\n",
    "                except UnicodeDecodeError:\n",
    "                    continue\n",
    "                total += size\n",
    "                cnt2 += 1\n",
    "                outF.write(f'{fn}\\t{size}\\n')\n",
    "    print(total)"
   ]
  },
  {
   "cell_type": "code",
   "execution_count": 14,
   "metadata": {},
   "outputs": [
    {
     "ename": "SyntaxError",
     "evalue": "'continue' not properly in loop (<ipython-input-14-6fbdea218a39>, line 10)",
     "output_type": "error",
     "traceback": [
      "\u001b[1;36m  File \u001b[1;32m\"<ipython-input-14-6fbdea218a39>\"\u001b[1;36m, line \u001b[1;32m10\u001b[0m\n\u001b[1;31mSyntaxError\u001b[0m\u001b[1;31m:\u001b[0m 'continue' not properly in loop\n"
     ]
    }
   ],
   "source": [
    "lst = [3,2]\n",
    "\n",
    "try:\n",
    "    lst[2]\n",
    "    aa[1]\n",
    "except IndexError:\n",
    "    pass"
   ]
  },
  {
   "cell_type": "code",
   "execution_count": 13,
   "metadata": {},
   "outputs": [
    {
     "ename": "NameError",
     "evalue": "name 'aa' is not defined",
     "output_type": "error",
     "traceback": [
      "\u001b[1;31m---------------------------------------------------------------------------\u001b[0m",
      "\u001b[1;31mNameError\u001b[0m                                 Traceback (most recent call last)",
      "\u001b[1;32m<ipython-input-13-04cafb779ff7>\u001b[0m in \u001b[0;36m<module>\u001b[1;34m\u001b[0m\n\u001b[1;32m----> 1\u001b[1;33m \u001b[0maa\u001b[0m\u001b[1;33m[\u001b[0m\u001b[1;36m1\u001b[0m\u001b[1;33m]\u001b[0m\u001b[1;33m\u001b[0m\u001b[1;33m\u001b[0m\u001b[0m\n\u001b[0m",
      "\u001b[1;31mNameError\u001b[0m: name 'aa' is not defined"
     ]
    }
   ],
   "source": [
    "try:\n",
    "    aa[1]\n",
    "except "
   ]
  },
  {
   "cell_type": "code",
   "execution_count": 19,
   "metadata": {
    "scrolled": true
   },
   "outputs": [
    {
     "name": "stdout",
     "output_type": "stream",
     "text": [
      "{'a': 2, 'b': 1, 'c': 1, 'd': 1, 'e': 1}\n"
     ]
    }
   ],
   "source": [
    "t = 'a b c d e a'\n",
    "d ={}\n",
    "for wd in t.split():\n",
    "    try:\n",
    "        d[wd] += 1\n",
    "    except KeyError:\n",
    "        d[wd] = 0\n",
    "        d[wd] += 1\n",
    "print(d)"
   ]
  },
  {
   "cell_type": "code",
   "execution_count": null,
   "metadata": {},
   "outputs": [],
   "source": [
    "cnt1 = 0\n",
    "cnt2 = 0\n",
    "total = 0\n",
    "with open('stat.txt', 'w', encoding='utf8') as outF:\n",
    "    outF.write('File Name\\tsize\\n')\n",
    "    for dirpath, dirs, files in os.walk(r\"D:\\GOD's folder\\자료\\대학교\\언어학\\프로그래밍 연습\\교수님 자료\\corpus_sample\"):\n",
    "        for fn in files:\n",
    "            cnt1 += 1\n",
    "            with open(os.path.join(dirpath, fn), 'r', encoding='cp949') as inF:\n",
    "                try:\n",
    "                    size = len(inF.readlines())\n",
    "                except UnicodeDecodeError:\n",
    "                    continue\n",
    "                total += size\n",
    "                cnt2 += 1\n",
    "                outF.write(f'{fn}\\t{size}\\n')\n",
    "    ouF.write('sum\\t[:,]\\n'.format(total))\n",
    "    ouF.write('sum\\t[:,]\\n'.format(total))\n"
   ]
  },
  {
   "cell_type": "code",
   "execution_count": 32,
   "metadata": {},
   "outputs": [
    {
     "name": "stdout",
     "output_type": "stream",
     "text": [
      "File Name\tSize\n",
      "2BT_004.txt\t5508\n",
      "2BT_020.txt\t5503\n",
      "2BT_021.txt\t5510\n",
      "2BT_022.txt\t5509\n",
      "2BT_023.txt\t5532\n",
      "2BT_036.txt\t5503\n",
      "2BT_061.txt\t5515\n",
      "2BT_064.txt\t5510\n",
      "2BT_065.txt\t5507\n",
      "2BT_066.txt\t5502\n",
      "2BT_067.txt\t5510\n",
      "2BT_068.txt\t5500\n",
      "2BT_070.txt\t5508\n",
      "2BT_077.txt\t5504\n",
      "2BT_078.txt\t5507\n",
      "2BT_079.txt\t5507\n",
      "2BT_080.txt\t5524\n",
      "2BT_081.txt\t5510\n",
      "2BT_084.txt\t5511\n",
      "2BT_085.txt\t5503\n",
      "2BT_088.txt\t5511\n",
      "2BT_103.txt\t5508\n",
      "2BT_107.txt\t5527\n",
      "2BT_110.txt\t5507\n",
      "2BEXX07.txt\t4978\n",
      "2BEXX20.txt\t4961\n",
      "2BT_001.txt\t6698\n",
      "2BT_714.txt\t2781\n",
      "2BT_715.txt\t3087\n",
      "2BT_717.txt\t5524\n",
      "2BT_718.txt\t5723\n",
      "2BT_719.txt\t4748\n",
      "2BT_720.txt\t1964\n",
      "2BT_721.txt\t5052\n",
      "2BT_722.txt\t4737\n",
      "2BT_723.txt\t6210\n",
      "2BT_724.txt\t4404\n",
      "2BT_725.txt\t1566\n",
      "2CE0019.txt\t4950\n",
      "2CE0020.txt\t4972\n",
      "2CG0007.txt\t4930\n",
      "2CG0008.txt\t4883\n",
      "2CJ0002.txt\t4926\n",
      "2CJ0004.txt\t4940\n",
      "2CJ0006.txt\t3550\n",
      "2CJ0007.txt\t4913\n",
      "2CJ0010.txt\t4915\n",
      "2CJ0011.txt\t3086\n",
      "2BT_038.txt\t5309\n",
      "2BT_075.txt\t5301\n",
      "2BT_076.txt\t5315\n",
      "2BT_090.txt\t5329\n",
      "2BT_091.txt\t5310\n",
      "2BT_092.txt\t5300\n",
      "2BT_105.txt\t5303\n",
      "2BT_115.txt\t5309\n",
      "2BT_708.txt\t5302\n",
      "2BT_709.txt\t5332\n",
      "2BT_710.txt\t5309\n",
      "2BT_B16.txt\t5301\n",
      "4BB0A01.txt\t5030\n",
      "4BB0A02.txt\t4985\n",
      "4BB0A06.txt\t4993\n",
      "4BB7104.txt\t5007\n",
      "4BB7B01.txt\t3878\n",
      "4BB7B05.txt\t4998\n",
      "4BB7B08.txt\t4931\n",
      "4BB9l03.txt\t4976\n",
      "Ab00667.txt\t4969\n",
      "Ab00693.txt\t4946\n",
      "Ab00803.txt\t4970\n",
      "Bb3b002.txt\t4974\n",
      "Bb4d021.txt\t4927\n",
      "2BT_005.txt\t5718\n",
      "2BT_007.txt\t3130\n",
      "2BT_010.txt\t5712\n",
      "2BT_011.txt\t5724\n",
      "2BT_013.txt\t5724\n",
      "2BT_014.txt\t676\n",
      "2BT_015.txt\t5720\n",
      "2BT_016.txt\t1759\n",
      "2BT_025.txt\t5703\n",
      "2BT_026.txt\t2066\n",
      "2BT_028.txt\t5704\n",
      "2BT_029.txt\t4447\n",
      "2BT_031.txt\t502\n",
      "2BT_032.txt\t3537\n",
      "2BT_033.txt\t4867\n",
      "2BT_034.txt\t5720\n",
      "2BT_045.txt\t4604\n",
      "2BT_046.txt\t5708\n",
      "2BT_050.txt\t5714\n",
      "2BT_051.txt\t5707\n",
      "2BT_052.txt\t2376\n",
      "2BT_054.txt\t5705\n",
      "2BT_055.txt\t5732\n",
      "2BT_C01.txt\t4989\n",
      "2BT_C02.txt\t5437\n",
      "2BT_C03.txt\t6318\n",
      "2BT_C04.txt\t7711\n",
      "2BT_C05.txt\t11097\n",
      "2BT_C06.txt\t2699\n",
      "2BT_C07.txt\t3607\n",
      "2BT_C08.txt\t5193\n",
      "2CK0001.txt\t4905\n",
      "2CK0003.txt\t4979\n",
      "2CK0004.txt\t4970\n",
      "2CK0005.txt\t4175\n",
      "2CK0006.txt\t4913\n",
      "2CK0007.txt\t4962\n",
      "2CK0008.txt\t4906\n",
      "2CK0009.txt\t4970\n",
      "2CK0012.txt\t4965\n",
      "2CK0013.txt\t4438\n",
      "2CK0014.txt\t4958\n",
      "2CK0015.txt\t4988\n",
      "2CK0016.txt\t4977\n",
      "2CK0017.txt\t4986\n",
      "2CK0018.txt\t4380\n",
      "2CK0019.txt\t4967\n",
      "2CK0021.txt\t4951\n"
     ]
    },
    {
     "ename": "ZeroDivisionError",
     "evalue": "division by zero",
     "output_type": "error",
     "traceback": [
      "\u001b[1;31m---------------------------------------------------------------------------\u001b[0m",
      "\u001b[1;31mZeroDivisionError\u001b[0m                         Traceback (most recent call last)",
      "\u001b[1;32m<ipython-input-32-8365e89e9d8e>\u001b[0m in \u001b[0;36m<module>\u001b[1;34m\u001b[0m\n\u001b[0;32m     11\u001b[0m                 \u001b[0mtotal\u001b[0m \u001b[1;33m+=\u001b[0m \u001b[0msize\u001b[0m\u001b[1;33m\u001b[0m\u001b[1;33m\u001b[0m\u001b[0m\n\u001b[0;32m     12\u001b[0m                 \u001b[0mprint\u001b[0m\u001b[1;33m(\u001b[0m\u001b[1;34m'{}\\t{}'\u001b[0m\u001b[1;33m.\u001b[0m\u001b[0mformat\u001b[0m\u001b[1;33m(\u001b[0m\u001b[0mfn\u001b[0m\u001b[1;33m,\u001b[0m\u001b[0msize\u001b[0m\u001b[1;33m)\u001b[0m\u001b[1;33m)\u001b[0m\u001b[1;33m\u001b[0m\u001b[1;33m\u001b[0m\u001b[0m\n\u001b[1;32m---> 13\u001b[1;33m \u001b[0mprint\u001b[0m\u001b[1;33m(\u001b[0m\u001b[1;34m'합계\\t{:,}\\n평균\\t{:0.2f}'\u001b[0m\u001b[1;33m.\u001b[0m\u001b[0mformat\u001b[0m\u001b[1;33m(\u001b[0m\u001b[0mtotal\u001b[0m\u001b[1;33m,\u001b[0m \u001b[0mtotal\u001b[0m\u001b[1;33m/\u001b[0m\u001b[0mcnt\u001b[0m\u001b[1;33m)\u001b[0m\u001b[1;33m)\u001b[0m\u001b[1;33m\u001b[0m\u001b[1;33m\u001b[0m\u001b[0m\n\u001b[0m",
      "\u001b[1;31mZeroDivisionError\u001b[0m: division by zero"
     ]
    }
   ],
   "source": [
    "print('File Name\\tSize')\n",
    "cnt = 0\n",
    "total = 0\n",
    "for dirpath, dirs, files in os.walk(r\"D:\\GOD's folder\\자료\\대학교\\언어학\\프로그래밍 연습\\교수님 자료\\corpus_sample\"):\n",
    "        for fn in files:\n",
    "            with open(os.path.join(dirpath,fn), 'r', encoding='cp949') as inF:\n",
    "                try:\n",
    "                    size = len(inF.readlines())\n",
    "                except UnicodeDecodeError:\n",
    "                    continue\n",
    "                total += size\n",
    "                print('{}\\t{}'.format(fn,size))\n",
    "print('합계\\t{:,}\\n평균\\t{:0.2f}'.format(total, total/cnt))"
   ]
  },
  {
   "cell_type": "code",
   "execution_count": 43,
   "metadata": {},
   "outputs": [
    {
     "ename": "ZeroDivisionError",
     "evalue": "division by zero",
     "output_type": "error",
     "traceback": [
      "\u001b[1;31m---------------------------------------------------------------------------\u001b[0m",
      "\u001b[1;31mZeroDivisionError\u001b[0m                         Traceback (most recent call last)",
      "\u001b[1;32m<ipython-input-43-f2d4294d1f78>\u001b[0m in \u001b[0;36m<module>\u001b[1;34m\u001b[0m\n\u001b[0;32m     12\u001b[0m                 \u001b[0mtotal\u001b[0m \u001b[1;33m+=\u001b[0m \u001b[0msize\u001b[0m\u001b[1;33m\u001b[0m\u001b[1;33m\u001b[0m\u001b[0m\n\u001b[0;32m     13\u001b[0m                 \u001b[0moutF\u001b[0m\u001b[1;33m.\u001b[0m\u001b[0mwrite\u001b[0m\u001b[1;33m(\u001b[0m\u001b[1;34m'{}\\t{}'\u001b[0m\u001b[1;33m.\u001b[0m\u001b[0mformat\u001b[0m\u001b[1;33m(\u001b[0m\u001b[0mfn\u001b[0m\u001b[1;33m,\u001b[0m\u001b[0msize\u001b[0m\u001b[1;33m)\u001b[0m\u001b[1;33m)\u001b[0m\u001b[1;33m\u001b[0m\u001b[1;33m\u001b[0m\u001b[0m\n\u001b[1;32m---> 14\u001b[1;33m \u001b[0moutF\u001b[0m\u001b[1;33m.\u001b[0m\u001b[0mwrite\u001b[0m\u001b[1;33m(\u001b[0m\u001b[1;34m'합계\\t{:,}\\n평균\\t{:0.2f}'\u001b[0m\u001b[1;33m.\u001b[0m\u001b[0mformat\u001b[0m\u001b[1;33m(\u001b[0m\u001b[0mtotal\u001b[0m\u001b[1;33m,\u001b[0m \u001b[0mtotal\u001b[0m\u001b[1;33m/\u001b[0m\u001b[0mcnt\u001b[0m\u001b[1;33m)\u001b[0m\u001b[1;33m)\u001b[0m\u001b[1;33m\u001b[0m\u001b[1;33m\u001b[0m\u001b[0m\n\u001b[0m\u001b[0;32m     15\u001b[0m \u001b[0moutF\u001b[0m\u001b[1;33m.\u001b[0m\u001b[0mclose\u001b[0m\u001b[1;33m(\u001b[0m\u001b[1;33m)\u001b[0m\u001b[1;33m\u001b[0m\u001b[1;33m\u001b[0m\u001b[0m\n",
      "\u001b[1;31mZeroDivisionError\u001b[0m: division by zero"
     ]
    }
   ],
   "source": [
    "outF = open('stat.txt', 'w', encoding='utf8')\n",
    "outF.write('File Name\\tSize')\n",
    "cnt = 0\n",
    "total = 0\n",
    "for dirpath, dirs, files in os.walk(r\"D:\\GOD's folder\\자료\\대학교\\언어학\\프로그래밍 연습\\교수님 자료\\corpus_sample\"):\n",
    "        for fn in files:\n",
    "            with open(os.path.join(dirpath,fn), 'r', encoding='cp949') as inF:\n",
    "                try:\n",
    "                    size = len(inF.readlines())\n",
    "                except UnicodeDecodeError:\n",
    "                    continue\n",
    "                total += size\n",
    "                outF.write('{}\\t{}'.format(fn,size))\n",
    "outF.write('합계\\t{:,}\\n평균\\t{:0.2f}'.format(total, total/cnt))\n",
    "outF.close()"
   ]
  },
  {
   "cell_type": "code",
   "execution_count": 44,
   "metadata": {},
   "outputs": [
    {
     "name": "stdout",
     "output_type": "stream",
     "text": [
      "1.5\n",
      "3.0\n",
      "-3.0\n"
     ]
    }
   ],
   "source": [
    "for i in range(2,-2,-1):\n",
    "    try:\n",
    "        k = 3/i\n",
    "        print(k)\n",
    "    except ZeroDivisionError:\n",
    "        pass"
   ]
  },
  {
   "cell_type": "code",
   "execution_count": 45,
   "metadata": {},
   "outputs": [],
   "source": [
    "def f(x):\n",
    "    res = 2*x +10\n",
    "    return x ** 2 + 10"
   ]
  },
  {
   "cell_type": "code",
   "execution_count": 46,
   "metadata": {},
   "outputs": [
    {
     "data": {
      "text/plain": [
       "19"
      ]
     },
     "execution_count": 46,
     "metadata": {},
     "output_type": "execute_result"
    }
   ],
   "source": [
    "f(3)"
   ]
  },
  {
   "cell_type": "code",
   "execution_count": 48,
   "metadata": {},
   "outputs": [
    {
     "name": "stdout",
     "output_type": "stream",
     "text": [
      "hi!\n"
     ]
    }
   ],
   "source": [
    "def say1():\n",
    "    return 'hi!'\n",
    "result = say1()\n",
    "print(result)"
   ]
  },
  {
   "cell_type": "code",
   "execution_count": 50,
   "metadata": {},
   "outputs": [
    {
     "name": "stdout",
     "output_type": "stream",
     "text": [
      "(7, 12)\n"
     ]
    }
   ],
   "source": [
    "def sum_and_mul(a,b):\n",
    "    return a+b, a*b\n",
    "rst = sum_and_mul(3,4)\n",
    "print(rst)"
   ]
  },
  {
   "cell_type": "code",
   "execution_count": 53,
   "metadata": {},
   "outputs": [
    {
     "name": "stdout",
     "output_type": "stream",
     "text": [
      "name: shin\n",
      "Welcome shin to Korea\n"
     ]
    }
   ],
   "source": [
    "def hello():\n",
    "    name = input('name: ')\n",
    "    print(f'Welcome {name} to Korea')\n",
    "hello()"
   ]
  },
  {
   "cell_type": "code",
   "execution_count": 55,
   "metadata": {},
   "outputs": [
    {
     "data": {
      "text/plain": [
       "6"
      ]
     },
     "execution_count": 55,
     "metadata": {},
     "output_type": "execute_result"
    }
   ],
   "source": [
    "def get_range(lst):\n",
    "    return max(lst) - min(lst)\n",
    "\n",
    "rst = ([4,0,1,-2])\n",
    "get_range(rst)"
   ]
  },
  {
   "cell_type": "code",
   "execution_count": 56,
   "metadata": {},
   "outputs": [
    {
     "name": "stdout",
     "output_type": "stream",
     "text": [
      "0\n"
     ]
    }
   ],
   "source": [
    "total = 0\n",
    "def sum(a,b):\n",
    "    total = a + b\n",
    "    return total\n",
    "print(total)\n",
    "#def밖을 빠져나오는 순간 그 안에 있는 것들은 영향 엑스이다.\n"
   ]
  },
  {
   "cell_type": "code",
   "execution_count": 59,
   "metadata": {},
   "outputs": [
    {
     "name": "stdout",
     "output_type": "stream",
     "text": [
      "2000\n",
      "2001\n",
      "2002\n"
     ]
    }
   ],
   "source": [
    "money = 2000\n",
    "def addmoney():\n",
    "    global money\n",
    "    money += 1\n",
    "    \n",
    "print(money)\n",
    "addmoney()\n",
    "print(money)\n",
    "addmoney()\n",
    "print(money)"
   ]
  },
  {
   "cell_type": "code",
   "execution_count": 65,
   "metadata": {},
   "outputs": [],
   "source": [
    "def sum(*x):\n",
    "    return x\n",
    "#*는 여러개의 값을 tuple로 받을 수 있다"
   ]
  },
  {
   "cell_type": "code",
   "execution_count": 67,
   "metadata": {},
   "outputs": [
    {
     "name": "stdout",
     "output_type": "stream",
     "text": [
      "(3, 2, 5, 6)\n"
     ]
    }
   ],
   "source": [
    "print(sum(3,2,5,6))"
   ]
  },
  {
   "cell_type": "code",
   "execution_count": 69,
   "metadata": {},
   "outputs": [
    {
     "name": "stdout",
     "output_type": "stream",
     "text": [
      "9\n"
     ]
    }
   ],
   "source": [
    "def total(*x):\n",
    "    s = 0\n",
    "    for i in x:\n",
    "        s += i\n",
    "        \n",
    "    return s\n",
    "print(total(3,2,4))"
   ]
  },
  {
   "cell_type": "code",
   "execution_count": 70,
   "metadata": {},
   "outputs": [
    {
     "name": "stdout",
     "output_type": "stream",
     "text": [
      "240\n"
     ]
    }
   ],
   "source": [
    "def multiply(*x):\n",
    "    s = 1\n",
    "    for k in x:\n",
    "        s *= k\n",
    "    return s\n",
    "print(multiply(5,6,8))"
   ]
  },
  {
   "cell_type": "code",
   "execution_count": null,
   "metadata": {},
   "outputs": [],
   "source": []
  }
 ],
 "metadata": {
  "kernelspec": {
   "display_name": "Python 3",
   "language": "python",
   "name": "python3"
  },
  "language_info": {
   "codemirror_mode": {
    "name": "ipython",
    "version": 3
   },
   "file_extension": ".py",
   "mimetype": "text/x-python",
   "name": "python",
   "nbconvert_exporter": "python",
   "pygments_lexer": "ipython3",
   "version": "3.7.2"
  }
 },
 "nbformat": 4,
 "nbformat_minor": 2
}
