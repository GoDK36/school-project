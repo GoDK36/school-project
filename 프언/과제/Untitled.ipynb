{
 "cells": [
  {
   "cell_type": "code",
   "execution_count": 7,
   "metadata": {},
   "outputs": [],
   "source": [
    "import os, re\n",
    "\n",
    "def rm_str(a):\n",
    "    a1 = re.sub('\\+','',a)\n",
    "    a2 = re.sub('/\\w*','',a1)\n",
    "    return a2\n",
    "with open(r\"D:\\GOD's folder\\자료\\대학교\\언어학\\프로그래밍 연습\\과제\\data\\2BT_004.txt\", 'r', encoding='cp949') as inF:\n",
    "    atc1 = inF.read()\n",
    "with open(r\"D:\\GOD's folder\\자료\\대학교\\언어학\\프로그래밍 연습\\과제\\data\\2BT_020.txt\", 'r', encoding='cp949') as inF:\n",
    "    atc2 = inF.read()\n",
    "with open(r\"D:\\GOD's folder\\자료\\대학교\\언어학\\프로그래밍 연습\\과제\\data\\2BT_021.txt\", 'r', encoding='cp949') as inF:\n",
    "    atc3 = inF.read()\n",
    "with open(r\"D:\\GOD's folder\\자료\\대학교\\언어학\\프로그래밍 연습\\과제\\data\\2BT_022.txt\", 'r', encoding='cp949') as inF:\n",
    "    atc4 = inF.read()\n",
    "with open(r\"D:\\GOD's folder\\자료\\대학교\\언어학\\프로그래밍 연습\\과제\\data\\2BT_023.txt\", 'r', encoding='cp949') as inF:\n",
    "    atc5 = inF.read()\n",
    "\n",
    "n_atc1 = rm_str(atc1)\n",
    "n_atc2 = rm_str(atc2)\n",
    "n_atc3 = rm_str(atc3)\n",
    "n_atc4 = rm_str(atc4)\n",
    "n_atc5 = rm_str(atc5)\n",
    "txt = n_atc1 + n_atc2 + n_atc3 + n_atc4 + n_atc5\n",
    "with open('merged.txt', 'w', encoding='cp949') as ouF:\n",
    "    ouF.write(txt)"
   ]
  },
  {
   "cell_type": "code",
   "execution_count": null,
   "metadata": {},
   "outputs": [],
   "source": []
  }
 ],
 "metadata": {
  "kernelspec": {
   "display_name": "Python 3",
   "language": "python",
   "name": "python3"
  },
  "language_info": {
   "codemirror_mode": {
    "name": "ipython",
    "version": 3
   },
   "file_extension": ".py",
   "mimetype": "text/x-python",
   "name": "python",
   "nbconvert_exporter": "python",
   "pygments_lexer": "ipython3",
   "version": "3.7.2"
  }
 },
 "nbformat": 4,
 "nbformat_minor": 2
}
