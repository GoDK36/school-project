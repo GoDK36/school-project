{
 "cells": [
  {
   "cell_type": "code",
   "execution_count": 2,
   "metadata": {},
   "outputs": [
    {
     "data": {
      "text/plain": [
       "defaultdict(None, {})"
      ]
     },
     "execution_count": 2,
     "metadata": {},
     "output_type": "execute_result"
    }
   ],
   "source": [
    "from collections import defaultdict\n",
    "defaultdict()\n",
    "# collections라는 패키지에서 defaultdict를 사용하겠다\n",
    "import collections\n",
    "d = collections.defaultdict()\n",
    "# 두 가지 방법 다 가능"
   ]
  },
  {
   "cell_type": "code",
   "execution_count": 3,
   "metadata": {},
   "outputs": [
    {
     "name": "stdout",
     "output_type": "stream",
     "text": [
      "{'a': 1, 'b': 2}\n"
     ]
    }
   ],
   "source": [
    "import pprint\n",
    "\n",
    "d = {'a':1, 'b':2}\n",
    "\n",
    "pprint.pprint(d)"
   ]
  },
  {
   "cell_type": "code",
   "execution_count": 4,
   "metadata": {},
   "outputs": [
    {
     "name": "stdout",
     "output_type": "stream",
     "text": [
      "{'a': 1, 'b': 2}\n"
     ]
    }
   ],
   "source": [
    "from pprint import pprint\n",
    "pprint(d)"
   ]
  },
  {
   "cell_type": "code",
   "execution_count": 5,
   "metadata": {},
   "outputs": [],
   "source": [
    "txt = 'a b c a b'"
   ]
  },
  {
   "cell_type": "code",
   "execution_count": 11,
   "metadata": {},
   "outputs": [],
   "source": [
    "freq_d={}\n",
    "if 'a' not in freq_d:\n",
    "    freq_d['a'] = 0\n",
    "freq_d['a'] = freq_d['a'] +1"
   ]
  },
  {
   "cell_type": "code",
   "execution_count": 8,
   "metadata": {},
   "outputs": [],
   "source": [
    "cnt = 0\n",
    "for wd in txt.split():\n",
    "    cnt += 1"
   ]
  },
  {
   "cell_type": "code",
   "execution_count": 9,
   "metadata": {},
   "outputs": [
    {
     "data": {
      "text/plain": [
       "5"
      ]
     },
     "execution_count": 9,
     "metadata": {},
     "output_type": "execute_result"
    }
   ],
   "source": [
    "cnt"
   ]
  },
  {
   "cell_type": "code",
   "execution_count": 12,
   "metadata": {},
   "outputs": [
    {
     "name": "stdout",
     "output_type": "stream",
     "text": [
      "{'a': 2, 'b': 2, 'c': 1}\n"
     ]
    }
   ],
   "source": [
    "freq_d={}\n",
    "for wd in txt.split():\n",
    "    if wd not in freq_d:\n",
    "        freq_d[wd] = 0\n",
    "    freq_d[wd] += 1\n",
    "print(freq_d)"
   ]
  },
  {
   "cell_type": "code",
   "execution_count": 13,
   "metadata": {},
   "outputs": [],
   "source": [
    "freq_d = defaultdict(int)\n",
    "# if wd not in freq_d:\n",
    "#         freq_d[wd] = 0\n",
    "# 와 디폴트 딕트가 같은 역할을함\n",
    "for wd in txt.split():\n",
    "    freq_d[wd] += 1"
   ]
  },
  {
   "cell_type": "code",
   "execution_count": 14,
   "metadata": {},
   "outputs": [
    {
     "data": {
      "text/plain": [
       "defaultdict(int, {'a': 2, 'b': 2, 'c': 1})"
      ]
     },
     "execution_count": 14,
     "metadata": {},
     "output_type": "execute_result"
    }
   ],
   "source": [
    "freq_d"
   ]
  },
  {
   "cell_type": "code",
   "execution_count": 25,
   "metadata": {},
   "outputs": [],
   "source": [
    "freq_d = {}"
   ]
  },
  {
   "cell_type": "code",
   "execution_count": 26,
   "metadata": {},
   "outputs": [],
   "source": [
    "t1 = 'a b c a b'\n",
    "t2 = 'q e 12 3 4'"
   ]
  },
  {
   "cell_type": "code",
   "execution_count": 29,
   "metadata": {},
   "outputs": [],
   "source": [
    "for wd in t1.split():\n",
    "    if 't1' not in freq_d:\n",
    "        freq_d['t1'] = defaultdict(int)\n",
    "    freq_d['t1'][wd] += 1\n",
    "    \n",
    "for wd in t2.split():\n",
    "    if 't2' not in freq_d:\n",
    "        freq_d['t2'] = defaultdict(int)\n",
    "    freq_d['t2'][wd] += 1"
   ]
  },
  {
   "cell_type": "code",
   "execution_count": 30,
   "metadata": {},
   "outputs": [
    {
     "data": {
      "text/plain": [
       "{'t1': defaultdict(int, {'a': 4, 'b': 4, 'c': 2}),\n",
       " 't2': defaultdict(int, {'q': 1, 'e': 1, '12': 1, '3': 1, '4': 1})}"
      ]
     },
     "execution_count": 30,
     "metadata": {},
     "output_type": "execute_result"
    }
   ],
   "source": [
    "freq_d"
   ]
  },
  {
   "cell_type": "code",
   "execution_count": 16,
   "metadata": {},
   "outputs": [
    {
     "ename": "TypeError",
     "evalue": "'int' object is not subscriptable",
     "output_type": "error",
     "traceback": [
      "\u001b[1;31m---------------------------------------------------------------------------\u001b[0m",
      "\u001b[1;31mTypeError\u001b[0m                                 Traceback (most recent call last)",
      "\u001b[1;32m<ipython-input-16-143b04edff17>\u001b[0m in \u001b[0;36m<module>\u001b[1;34m\u001b[0m\n\u001b[1;32m----> 1\u001b[1;33m \u001b[0mfreq_d\u001b[0m\u001b[1;33m[\u001b[0m\u001b[1;34m't1'\u001b[0m\u001b[1;33m]\u001b[0m\u001b[1;33m[\u001b[0m\u001b[1;34m'a'\u001b[0m\u001b[1;33m]\u001b[0m \u001b[1;33m+=\u001b[0m \u001b[1;36m1\u001b[0m\u001b[1;33m\u001b[0m\u001b[1;33m\u001b[0m\u001b[0m\n\u001b[0m\u001b[0;32m      2\u001b[0m \u001b[0mfreq_d\u001b[0m\u001b[1;33m[\u001b[0m\u001b[1;34m't1'\u001b[0m\u001b[1;33m]\u001b[0m\u001b[1;33m[\u001b[0m\u001b[1;34m'b'\u001b[0m\u001b[1;33m]\u001b[0m \u001b[1;33m+=\u001b[0m \u001b[1;36m1\u001b[0m\u001b[1;33m\u001b[0m\u001b[1;33m\u001b[0m\u001b[0m\n\u001b[0;32m      3\u001b[0m \u001b[0mfreq_d\u001b[0m\u001b[1;33m[\u001b[0m\u001b[1;34m't1'\u001b[0m\u001b[1;33m]\u001b[0m\u001b[1;33m[\u001b[0m\u001b[1;34m'c'\u001b[0m\u001b[1;33m]\u001b[0m \u001b[1;33m+=\u001b[0m \u001b[1;36m1\u001b[0m\u001b[1;33m\u001b[0m\u001b[1;33m\u001b[0m\u001b[0m\n\u001b[0;32m      4\u001b[0m \u001b[0mfreq_d\u001b[0m\u001b[1;33m[\u001b[0m\u001b[1;34m't1'\u001b[0m\u001b[1;33m]\u001b[0m\u001b[1;33m[\u001b[0m\u001b[1;34m'a'\u001b[0m\u001b[1;33m]\u001b[0m \u001b[1;33m+=\u001b[0m \u001b[1;36m1\u001b[0m\u001b[1;33m\u001b[0m\u001b[1;33m\u001b[0m\u001b[0m\n",
      "\u001b[1;31mTypeError\u001b[0m: 'int' object is not subscriptable"
     ]
    }
   ],
   "source": [
    "freq_d['t1']['a'] += 1\n",
    "freq_d['t1']['b'] += 1\n",
    "freq_d['t1']['c'] += 1\n",
    "freq_d['t1']['a'] += 1"
   ]
  },
  {
   "cell_type": "code",
   "execution_count": 34,
   "metadata": {},
   "outputs": [
    {
     "name": "stdout",
     "output_type": "stream",
     "text": [
      "알파벳을 입력하세요: 4\n",
      "vowel\n"
     ]
    }
   ],
   "source": [
    "a = input(\"알파벳을 입력하세요: \")\n",
    "\n",
    "if a == 'a' or 'e' or 'i' or 'o' or 'u':\n",
    "    print('vowel')\n",
    "elif a == 'y':\n",
    "    print('vowel or consonent')\n",
    "else:\n",
    "    print('consonent')"
   ]
  },
  {
   "cell_type": "code",
   "execution_count": 38,
   "metadata": {},
   "outputs": [
    {
     "name": "stdout",
     "output_type": "stream",
     "text": [
      "4\n",
      "retry.....\n",
      "5\n",
      "retry.....\n",
      "hi\n",
      "consonent\n",
      "play\n",
      "consonent\n",
      "p\n",
      "consonent\n",
      "l\n",
      "consonent\n",
      "i\n",
      "vowel\n",
      "o\n",
      "vowel\n",
      "quit\n"
     ]
    }
   ],
   "source": [
    "while 1:\n",
    "    char = input()\n",
    "    if char == 'quit':\n",
    "        break\n",
    "    if not char.isalpha():\n",
    "        print('retry.....')\n",
    "        continue\n",
    "#         이게 걸렸을때 밑에 줄을 실행하지 않기 위해\n",
    "    if char == 'a' or char == 'e' or char == 'i' or char == 'o' or char == 'u':\n",
    "#         or 기준으로 각각 써줘야함!! char == 'a' or 'b'이런거 안됨!!\n",
    "        print('vowel')\n",
    "    elif char == 'y':\n",
    "        print('vowel or consonent')\n",
    "    else:\n",
    "        print('consonent')"
   ]
  },
  {
   "cell_type": "code",
   "execution_count": 39,
   "metadata": {},
   "outputs": [
    {
     "name": "stdout",
     "output_type": "stream",
     "text": [
      "1\n",
      "2\n",
      "3\n",
      "-9\n",
      "6\n"
     ]
    }
   ],
   "source": [
    "res = 0\n",
    "while 2:\n",
    "    n = int(input())\n",
    "    if n == -9:\n",
    "        print(res)\n",
    "        break\n",
    "    res += n\n",
    "    "
   ]
  },
  {
   "cell_type": "code",
   "execution_count": 42,
   "metadata": {},
   "outputs": [
    {
     "name": "stdout",
     "output_type": "stream",
     "text": [
      "4\n",
      "0\n"
     ]
    }
   ],
   "source": [
    "res =[]\n",
    "while 3:\n",
    "    n == int(input())\n",
    "    if n == -9:\n",
    "        print(sum(res))\n",
    "        break\n",
    "    res.append(n)\n",
    "    \n",
    "#      다시해보기"
   ]
  },
  {
   "cell_type": "code",
   "execution_count": 43,
   "metadata": {},
   "outputs": [
    {
     "name": "stdout",
     "output_type": "stream",
     "text": [
      "{1: 10, 2: 20, 3: 30, 4: 40}\n"
     ]
    }
   ],
   "source": [
    "d1 = {1:10, 2:20}\n",
    "d2 = {3:30, 4:40}\n",
    "d = {}\n",
    "d.update(d1)\n",
    "d.update(d2)\n",
    "print(d)"
   ]
  },
  {
   "cell_type": "code",
   "execution_count": 47,
   "metadata": {},
   "outputs": [
    {
     "name": "stdout",
     "output_type": "stream",
     "text": [
      "1\n",
      "3\n",
      "5\n",
      "6\n",
      "7\n",
      "8\n",
      "9\n",
      "10\n",
      "11\n",
      "13\n",
      "15\n",
      "16\n",
      "17\n",
      "18\n",
      "19\n",
      "30\n"
     ]
    }
   ],
   "source": [
    "for a in range(1,31):\n",
    "    k = str(a)\n",
    "    if '2' in k or '4' in k:\n",
    "        continue\n",
    "    print(k)"
   ]
  },
  {
   "cell_type": "code",
   "execution_count": 51,
   "metadata": {},
   "outputs": [
    {
     "name": "stdout",
     "output_type": "stream",
     "text": [
      "32\n",
      "wrong\n",
      "43F\n"
     ]
    },
    {
     "ename": "ValueError",
     "evalue": "invalid literal for int() with base 10: '43F'",
     "output_type": "error",
     "traceback": [
      "\u001b[1;31m---------------------------------------------------------------------------\u001b[0m",
      "\u001b[1;31mValueError\u001b[0m                                Traceback (most recent call last)",
      "\u001b[1;32m<ipython-input-51-a83d49f91d7f>\u001b[0m in \u001b[0;36m<module>\u001b[1;34m\u001b[0m\n\u001b[0;32m      2\u001b[0m     \u001b[0mt\u001b[0m \u001b[1;33m=\u001b[0m \u001b[0minput\u001b[0m\u001b[1;33m(\u001b[0m\u001b[1;33m)\u001b[0m\u001b[1;33m\u001b[0m\u001b[1;33m\u001b[0m\u001b[0m\n\u001b[0;32m      3\u001b[0m     \u001b[0ma\u001b[0m \u001b[1;33m=\u001b[0m \u001b[0mstr\u001b[0m\u001b[1;33m(\u001b[0m\u001b[0mt\u001b[0m\u001b[1;33m)\u001b[0m\u001b[1;33m\u001b[0m\u001b[1;33m\u001b[0m\u001b[0m\n\u001b[1;32m----> 4\u001b[1;33m     \u001b[0mb\u001b[0m \u001b[1;33m=\u001b[0m \u001b[0mint\u001b[0m\u001b[1;33m(\u001b[0m\u001b[0mt\u001b[0m\u001b[1;33m)\u001b[0m\u001b[1;33m\u001b[0m\u001b[1;33m\u001b[0m\u001b[0m\n\u001b[0m\u001b[0;32m      5\u001b[0m     \u001b[1;32mif\u001b[0m \u001b[1;34m'C'\u001b[0m \u001b[1;32min\u001b[0m \u001b[0ma\u001b[0m\u001b[1;33m:\u001b[0m\u001b[1;33m\u001b[0m\u001b[1;33m\u001b[0m\u001b[0m\n\u001b[0;32m      6\u001b[0m         \u001b[0mf\u001b[0m \u001b[1;33m=\u001b[0m \u001b[0mb\u001b[0m\u001b[1;33m*\u001b[0m\u001b[1;36m9\u001b[0m\u001b[1;33m/\u001b[0m\u001b[1;36m5\u001b[0m \u001b[1;33m+\u001b[0m\u001b[1;36m32\u001b[0m\u001b[1;33m\u001b[0m\u001b[1;33m\u001b[0m\u001b[0m\n",
      "\u001b[1;31mValueError\u001b[0m: invalid literal for int() with base 10: '43F'"
     ]
    }
   ],
   "source": [
    "while 1:\n",
    "    t = input()\n",
    "    a = str(t)\n",
    "    b = int(t)\n",
    "    if 'C' in a:\n",
    "        f = b*9/5 +32\n",
    "        print(f,'F')\n",
    "    elif \"F\" in a:\n",
    "        c = (b - 32) * 5 /9\n",
    "        print(c, 'C')\n",
    "    else:\n",
    "        print('wrong')\n",
    "        continue\n",
    "# 내가 한거"
   ]
  },
  {
   "cell_type": "code",
   "execution_count": 3,
   "metadata": {},
   "outputs": [
    {
     "name": "stdout",
     "output_type": "stream",
     "text": [
      "100F\n",
      "37.77777777777778C\n",
      "120C\n",
      "248.0F\n",
      "32C\n",
      "89.6F\n",
      "quit\n"
     ]
    }
   ],
   "source": [
    "while 1:\n",
    "    temp = input()\n",
    "    \n",
    "    if temp == 'quit':\n",
    "        break\n",
    "    \n",
    "    num = temp[:-1]\n",
    "    unit =temp[-1]\n",
    "    \n",
    "    if unit != 'C' and unit != 'F':\n",
    "        print(\"wrong....retry...\")\n",
    "        continue\n",
    "        \n",
    "    num = int(num)\n",
    "    if unit == 'F':\n",
    "        res = (num-32)*5/9\n",
    "        unit = 'C'\n",
    "    else:\n",
    "        res = num * 9/5+32\n",
    "        unit = 'F'\n",
    "        \n",
    "    print(f'{res}{unit}')"
   ]
  },
  {
   "cell_type": "code",
   "execution_count": null,
   "metadata": {},
   "outputs": [],
   "source": []
  }
 ],
 "metadata": {
  "kernelspec": {
   "display_name": "Python 3",
   "language": "python",
   "name": "python3"
  },
  "language_info": {
   "codemirror_mode": {
    "name": "ipython",
    "version": 3
   },
   "file_extension": ".py",
   "mimetype": "text/x-python",
   "name": "python",
   "nbconvert_exporter": "python",
   "pygments_lexer": "ipython3",
   "version": "3.7.2"
  }
 },
 "nbformat": 4,
 "nbformat_minor": 2
}
