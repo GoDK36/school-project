{
 "cells": [
  {
   "cell_type": "code",
   "execution_count": 2,
   "metadata": {},
   "outputs": [],
   "source": [
    "hits = 12\n",
    "shield = 0"
   ]
  },
  {
   "cell_type": "code",
   "execution_count": 3,
   "metadata": {},
   "outputs": [
    {
     "name": "stdout",
     "output_type": "stream",
     "text": [
      "You're dead...\n"
     ]
    }
   ],
   "source": [
    "if hits > 10 and shield == 0:\n",
    "    print(\"You're dead...\")"
   ]
  },
  {
   "cell_type": "code",
   "execution_count": 4,
   "metadata": {},
   "outputs": [],
   "source": [
    "report = (\"No bonuses this year\")"
   ]
  },
  {
   "cell_type": "code",
   "execution_count": 5,
   "metadata": {},
   "outputs": [],
   "source": [
    "if \"large bonuses\" in report:\n",
    "    print(\"Vacation time!\")"
   ]
  },
  {
   "cell_type": "code",
   "execution_count": 2,
   "metadata": {},
   "outputs": [
    {
     "name": "stdout",
     "output_type": "stream",
     "text": [
      "name : shin\n",
      "age : 253\n",
      "shin, you can vote!\n"
     ]
    }
   ],
   "source": [
    "name = input(\"name : \")\n",
    "age = int(input(\"age : \"))\n",
    "if age > 19:\n",
    "    print(f\"{name}, you can vote!\")\n",
    "else:\n",
    "    print(f\"{name}, you can not vote...\")"
   ]
  },
  {
   "cell_type": "code",
   "execution_count": 1,
   "metadata": {},
   "outputs": [
    {
     "name": "stdout",
     "output_type": "stream",
     "text": [
      "number:54624898416\n",
      "Number is odd\n"
     ]
    }
   ],
   "source": [
    "num = int(input(\"number:\"))\n",
    "if num / 2 == 0:\n",
    "    print(\"Number is even\")\n",
    "else:\n",
    "    print(\"Number is odd\")"
   ]
  },
  {
   "cell_type": "code",
   "execution_count": 3,
   "metadata": {},
   "outputs": [
    {
     "name": "stdout",
     "output_type": "stream",
     "text": [
      "name : ssss\n",
      "age : -24\n",
      "Input again\n"
     ]
    }
   ],
   "source": [
    "name = input(\"name : \")\n",
    "age = int(input('age : '))\n",
    "\n",
    "if age < 0:\n",
    "    print(\"Input again\")\n",
    "elif age > 19:\n",
    "    print(f\"{name}, you can vote!\")\n",
    "else:\n",
    "    print(f\"{name}, you can not vote...\")"
   ]
  },
  {
   "cell_type": "code",
   "execution_count": 6,
   "metadata": {},
   "outputs": [
    {
     "name": "stdout",
     "output_type": "stream",
     "text": [
      "number: -5432\n",
      "음수\n"
     ]
    }
   ],
   "source": [
    "num = int(input(\"number: \"))\n",
    "\n",
    "if num < 0:\n",
    "    print(\"음수\")\n",
    "elif num > 0:\n",
    "    print(\"양수\")\n",
    "elif num == 0:\n",
    "    print('0')"
   ]
  },
  {
   "cell_type": "code",
   "execution_count": 7,
   "metadata": {},
   "outputs": [
    {
     "name": "stdout",
     "output_type": "stream",
     "text": [
      "ride a bus\n"
     ]
    }
   ],
   "source": [
    "pocket = [\"paper\", \"cellphone\"]\n",
    "card = True\n",
    "\n",
    "if \"money\" in pocket:\n",
    "    print('ride a taxi')\n",
    "elif card:\n",
    "    print('ride a bus')\n",
    "else:\n",
    "    print(\"walk\")"
   ]
  },
  {
   "cell_type": "code",
   "execution_count": 1,
   "metadata": {},
   "outputs": [
    {
     "name": "stdout",
     "output_type": "stream",
     "text": [
      "num1: 65\n",
      "num2: 2\n",
      "num3: 444\n",
      "444가 젤 크데!!\n"
     ]
    }
   ],
   "source": [
    "a = int(input('num1: '))\n",
    "b = int(input('num2: '))\n",
    "c = int(input(\"num3: \"))\n",
    "\n",
    "if a > b:\n",
    "    if a > c:\n",
    "        print(\"{}가 젤 큼둥다리둥\".format(a))\n",
    "    else:\n",
    "        print(\"{}가 젤 크데!!\".format(c))\n",
    "elif b > c:\n",
    "    print(\"{}가 젤 큰거 같당\".format(b))\n",
    "else:\n",
    "    print(\"{}가 어마무시하게 크답니다.\".format(c))\n",
    "    "
   ]
  },
  {
   "cell_type": "code",
   "execution_count": 15,
   "metadata": {},
   "outputs": [
    {
     "name": "stdout",
     "output_type": "stream",
     "text": [
      "너의 점수는?!88\n",
      "너의 결석 횟수는 ?!2\n",
      "B\n"
     ]
    }
   ],
   "source": [
    "grade = int(input(\"너의 점수는?!\"))\n",
    "absence = int(input(\"너의 결석 횟수는 ?!\"))\n",
    "\n",
    "if absence >= 5:\n",
    "    print(\"Fail\")\n",
    "else:\n",
    "    if grade >= 90:\n",
    "        print(\"A\")\n",
    "    elif grade >= 80 and grade <= 89:\n",
    "        print(\"B\")\n",
    "    elif grade >= 70:\n",
    "        print(\"C\")\n",
    "    elif grade >= 60:\n",
    "        print(\"D\")\n",
    "    else:\n",
    "        print(\"F\")"
   ]
  },
  {
   "cell_type": "code",
   "execution_count": 16,
   "metadata": {},
   "outputs": [
    {
     "name": "stdout",
     "output_type": "stream",
     "text": [
      "(1, 2)\n",
      "(3, 4)\n",
      "(5, 6)\n"
     ]
    }
   ],
   "source": [
    "lst = [(1,2), (3,4),(5,6)]\n",
    "for tup in lst:\n",
    "    print(tup)"
   ]
  },
  {
   "cell_type": "code",
   "execution_count": 17,
   "metadata": {},
   "outputs": [
    {
     "name": "stdout",
     "output_type": "stream",
     "text": [
      "1 2\n",
      "3 4\n",
      "5 6\n"
     ]
    }
   ],
   "source": [
    "for (a,b) in lst:\n",
    "    print(a,b)"
   ]
  },
  {
   "cell_type": "code",
   "execution_count": 18,
   "metadata": {},
   "outputs": [
    {
     "name": "stdout",
     "output_type": "stream",
     "text": [
      "3\n",
      "7\n",
      "11\n"
     ]
    }
   ],
   "source": [
    "for (a,b) in lst:\n",
    "    print(a+b)"
   ]
  },
  {
   "cell_type": "code",
   "execution_count": 19,
   "metadata": {},
   "outputs": [
    {
     "name": "stdout",
     "output_type": "stream",
     "text": [
      "stop\n",
      "desktop\n",
      "top\n"
     ]
    }
   ],
   "source": [
    "lst = ['stop', 'desktop', 'post', 'top']\n",
    "for word in lst:\n",
    "    if 'top' in word:\n",
    "        print(word)"
   ]
  },
  {
   "cell_type": "code",
   "execution_count": 2,
   "metadata": {},
   "outputs": [
    {
     "name": "stdout",
     "output_type": "stream",
     "text": [
      "Life\n",
      "is\n",
      "too\n",
      "short,\n",
      "You\n",
      "need\n",
      "Python\n"
     ]
    }
   ],
   "source": [
    "message = \"Life is too short, You need Python\"\n",
    "\n",
    "for k in message.split():\n",
    "    print(k)\n",
    "    "
   ]
  },
  {
   "cell_type": "code",
   "execution_count": 22,
   "metadata": {},
   "outputs": [
    {
     "name": "stdout",
     "output_type": "stream",
     "text": [
      "[10, 20, 30, 40]\n"
     ]
    }
   ],
   "source": [
    "lst = [1,2,3,4]\n",
    "n_lst=[]\n",
    "for num in lst:\n",
    "    n_lst.append(num * 10)\n",
    "print(n_lst)"
   ]
  },
  {
   "cell_type": "code",
   "execution_count": 23,
   "metadata": {},
   "outputs": [
    {
     "name": "stdout",
     "output_type": "stream",
     "text": [
      "10\n",
      "7\n",
      "4\n",
      "1\n"
     ]
    }
   ],
   "source": [
    "for i in range(10,0,-3):\n",
    "    print(i)"
   ]
  },
  {
   "cell_type": "code",
   "execution_count": 30,
   "metadata": {},
   "outputs": [
    {
     "name": "stdout",
     "output_type": "stream",
     "text": [
      "[0, 2, 4, 6, 8, 10, 12, 14, 16, 18, 20, 22, 24, 26, 28, 30, 32, 34, 36, 38, 40, 42, 44, 46, 48, 50, 52, 54, 56, 58, 60, 62, 64, 66, 68, 70, 72, 74, 76, 78, 80, 82, 84, 86, 88, 90, 92, 94, 96, 98, 100]\n"
     ]
    }
   ],
   "source": [
    "lst = []\n",
    "for i in range(0,101):\n",
    "    if i % 2 == 0:\n",
    "        lst.append(i)\n",
    "print(lst)"
   ]
  },
  {
   "cell_type": "code",
   "execution_count": 5,
   "metadata": {},
   "outputs": [
    {
     "name": "stdout",
     "output_type": "stream",
     "text": [
      "2\n",
      "3\n",
      "5\n"
     ]
    }
   ],
   "source": [
    "lst = [3,1,-7,-4,9,-2]\n",
    "n_lst = []\n",
    "for i in range(len(lst)):\n",
    "    if lst[i] < 0:\n",
    "        print(i)"
   ]
  },
  {
   "cell_type": "code",
   "execution_count": 34,
   "metadata": {},
   "outputs": [
    {
     "name": "stdout",
     "output_type": "stream",
     "text": [
      "8\n"
     ]
    }
   ],
   "source": [
    "lst = [1,3,4]\n",
    "res= 0\n",
    "for num in lst:\n",
    "    #res = res + num\n",
    "    res += num\n",
    "print(res)"
   ]
  },
  {
   "cell_type": "code",
   "execution_count": 41,
   "metadata": {},
   "outputs": [
    {
     "name": "stdout",
     "output_type": "stream",
     "text": [
      "num: 5\n",
      "120\n"
     ]
    }
   ],
   "source": [
    "n = int(input('num: '))\n",
    "k = 1\n",
    "if n > 0:\n",
    "    for i in range(n,0,-1):\n",
    "        k *= i\n",
    "    print(k)\n",
    "elif n == 0:\n",
    "    print(1)\n",
    "else:\n",
    "    print(\"error!\")"
   ]
  },
  {
   "cell_type": "code",
   "execution_count": 6,
   "metadata": {},
   "outputs": [
    {
     "name": "stdout",
     "output_type": "stream",
     "text": [
      "KFC\n"
     ]
    }
   ],
   "source": [
    "phrase = \"kenturcky fried chicken\"\n",
    "s = ''\n",
    "for word in phrase.split():\n",
    "    s += word[0]\n",
    "print(s.upper())"
   ]
  },
  {
   "cell_type": "code",
   "execution_count": 8,
   "metadata": {},
   "outputs": [
    {
     "name": "stdout",
     "output_type": "stream",
     "text": [
      "['kenturcky', 'fried', 'chicken']\n"
     ]
    }
   ],
   "source": [
    "print(phrase.split())"
   ]
  },
  {
   "cell_type": "code",
   "execution_count": 49,
   "metadata": {},
   "outputs": [
    {
     "name": "stdout",
     "output_type": "stream",
     "text": [
      "KFC\n"
     ]
    }
   ],
   "source": [
    "print(''.join(s).upper())"
   ]
  },
  {
   "cell_type": "code",
   "execution_count": 53,
   "metadata": {},
   "outputs": [
    {
     "name": "stdout",
     "output_type": "stream",
     "text": [
      "The sum is  55\n",
      "11\n"
     ]
    }
   ],
   "source": [
    "a = 10\n",
    "b = 0\n",
    "k = 1\n",
    "\n",
    "while k <= a:\n",
    "    b += k\n",
    "    k += 1\n",
    "print(\"The sum is \", b)\n",
    "print(k)"
   ]
  },
  {
   "cell_type": "code",
   "execution_count": 54,
   "metadata": {},
   "outputs": [
    {
     "name": "stdout",
     "output_type": "stream",
     "text": [
      "2\n",
      "4\n",
      "6\n",
      "8\n",
      "10\n"
     ]
    }
   ],
   "source": [
    "n = 10\n",
    "i = 1\n",
    "while i <= 10:\n",
    "    if i % 2 == 0:\n",
    "        print(i)\n",
    "    i += 1"
   ]
  },
  {
   "cell_type": "code",
   "execution_count": 55,
   "metadata": {},
   "outputs": [
    {
     "name": "stdout",
     "output_type": "stream",
     "text": [
      "1\n",
      "2\n"
     ]
    }
   ],
   "source": [
    "for i in range(1,10):\n",
    "    if i == 3:\n",
    "        break\n",
    "    print(i)"
   ]
  },
  {
   "cell_type": "code",
   "execution_count": 56,
   "metadata": {},
   "outputs": [
    {
     "name": "stdout",
     "output_type": "stream",
     "text": [
      "1\n",
      "2\n",
      "4\n",
      "5\n",
      "6\n",
      "7\n",
      "8\n",
      "9\n"
     ]
    }
   ],
   "source": [
    "for i in range(1,10):\n",
    "    if i == 3:\n",
    "        continue\n",
    "    print(i)"
   ]
  },
  {
   "cell_type": "code",
   "execution_count": 9,
   "metadata": {},
   "outputs": [
    {
     "name": "stdout",
     "output_type": "stream",
     "text": [
      "Quit : qhi my name is shin\n",
      "HMNIS\n",
      "Quit : qq\n"
     ]
    }
   ],
   "source": [
    "while 1:\n",
    "    text = input(\"Quit : q\")\n",
    "    if text.lower() == 'q':\n",
    "        break\n",
    "    t = ''\n",
    "    for word in text.split():\n",
    "        t += word[0]\n",
    "    print(t.upper())"
   ]
  },
  {
   "cell_type": "code",
   "execution_count": 10,
   "metadata": {},
   "outputs": [
    {
     "name": "stdout",
     "output_type": "stream",
     "text": [
      "몇 단까지를 원합니까? 9\n",
      "2단\n",
      "2X1 = 2\n",
      "2X2 = 4\n",
      "2X3 = 6\n",
      "2X4 = 8\n",
      "2X5 = 10\n",
      "2X6 = 12\n",
      "2X7 = 14\n",
      "2X8 = 16\n",
      "2X9 = 18\n",
      "\n",
      "3단\n",
      "3X1 = 3\n",
      "3X2 = 6\n",
      "3X3 = 9\n",
      "3X4 = 12\n",
      "3X5 = 15\n",
      "3X6 = 18\n",
      "3X7 = 21\n",
      "3X8 = 24\n",
      "3X9 = 27\n",
      "\n",
      "4단\n",
      "4X1 = 4\n",
      "4X2 = 8\n",
      "4X3 = 12\n",
      "4X4 = 16\n",
      "4X5 = 20\n",
      "4X6 = 24\n",
      "4X7 = 28\n",
      "4X8 = 32\n",
      "4X9 = 36\n",
      "\n",
      "5단\n",
      "5X1 = 5\n",
      "5X2 = 10\n",
      "5X3 = 15\n",
      "5X4 = 20\n",
      "5X5 = 25\n",
      "5X6 = 30\n",
      "5X7 = 35\n",
      "5X8 = 40\n",
      "5X9 = 45\n",
      "\n",
      "6단\n",
      "6X1 = 6\n",
      "6X2 = 12\n",
      "6X3 = 18\n",
      "6X4 = 24\n",
      "6X5 = 30\n",
      "6X6 = 36\n",
      "6X7 = 42\n",
      "6X8 = 48\n",
      "6X9 = 54\n",
      "\n",
      "7단\n",
      "7X1 = 7\n",
      "7X2 = 14\n",
      "7X3 = 21\n",
      "7X4 = 28\n",
      "7X5 = 35\n",
      "7X6 = 42\n",
      "7X7 = 49\n",
      "7X8 = 56\n",
      "7X9 = 63\n",
      "\n",
      "8단\n",
      "8X1 = 8\n",
      "8X2 = 16\n",
      "8X3 = 24\n",
      "8X4 = 32\n",
      "8X5 = 40\n",
      "8X6 = 48\n",
      "8X7 = 56\n",
      "8X8 = 64\n",
      "8X9 = 72\n",
      "\n",
      "9단\n",
      "9X1 = 9\n",
      "9X2 = 18\n",
      "9X3 = 27\n",
      "9X4 = 36\n",
      "9X5 = 45\n",
      "9X6 = 54\n",
      "9X7 = 63\n",
      "9X8 = 72\n",
      "9X9 = 81\n",
      "\n"
     ]
    }
   ],
   "source": [
    "n = int(input(\"몇 단까지를 원합니까? \"))\n",
    "for i in range(2,n+1):\n",
    "    print(f'{i}단')\n",
    "    for k in range(1,n+1):\n",
    "        print(f'{i}X{k} = {i*k}')\n",
    "    print()\n",
    "    "
   ]
  },
  {
   "cell_type": "code",
   "execution_count": 14,
   "metadata": {},
   "outputs": [
    {
     "name": "stdout",
     "output_type": "stream",
     "text": [
      "Life\n",
      "is\n",
      "too\n",
      "short\n",
      "need\n"
     ]
    }
   ],
   "source": [
    "message = \"Life is too short, You need Python\"\n",
    "\n",
    "for k in message.split():\n",
    "    for char in k:\n",
    "        if not char.isalpha():\n",
    "            k = k.replace(char,'')\n",
    "    if 'y' in k.lower():\n",
    "        continue\n",
    "    print(k)"
   ]
  },
  {
   "cell_type": "code",
   "execution_count": 19,
   "metadata": {},
   "outputs": [
    {
     "name": "stdout",
     "output_type": "stream",
     "text": [
      "He\n",
      "el\n",
      "ll\n",
      "lo\n",
      "o \n",
      " W\n",
      "Wo\n",
      "or\n",
      "rl\n",
      "ld\n",
      "d!\n"
     ]
    }
   ],
   "source": [
    "s = \"Hello World!\"\n",
    "for i in range(len(s)-1):\n",
    "    print(s[i]+s[i+1])"
   ]
  },
  {
   "cell_type": "code",
   "execution_count": null,
   "metadata": {},
   "outputs": [],
   "source": []
  }
 ],
 "metadata": {
  "kernelspec": {
   "display_name": "Python 3",
   "language": "python",
   "name": "python3"
  },
  "language_info": {
   "codemirror_mode": {
    "name": "ipython",
    "version": 3
   },
   "file_extension": ".py",
   "mimetype": "text/x-python",
   "name": "python",
   "nbconvert_exporter": "python",
   "pygments_lexer": "ipython3",
   "version": "3.7.2"
  }
 },
 "nbformat": 4,
 "nbformat_minor": 2
}
