{
 "cells": [
  {
   "cell_type": "code",
   "execution_count": 9,
   "metadata": {},
   "outputs": [],
   "source": [
    "import eunjeon\n",
    "import pandas as pd\n",
    "from math import log"
   ]
  },
  {
   "cell_type": "code",
   "execution_count": 3,
   "metadata": {},
   "outputs": [],
   "source": [
    "text = \"우선 현대 사회를 진단하는 것부터 출발해 봅시다. 프롬이 보기에 현대 사회가 흔들리는 가장 큰 원인은 분리불안을 오해하는 데 있어요. 인간은 원천적으로 홀로 존재합니다. 세계에 던져진 외로운 존재이기에 불안하죠. 키에르케고르도 인간의 불안은 극복할 문제가 아니라 슬기롭게 대처해야 할 문제로 보았어요. 불안으로 배움이 생길 수 있다고 진단했죠. 떨어져 있으니 합일의 진정성에 허기를 느끼게 되고, 그 허기를 채우기 위해 우리는 삶의 문제를 고민하게 되는 거예요. \""
   ]
  },
  {
   "cell_type": "code",
   "execution_count": 4,
   "metadata": {},
   "outputs": [],
   "source": [
    "mecab = eunjeon.Mecab()"
   ]
  },
  {
   "cell_type": "code",
   "execution_count": 5,
   "metadata": {},
   "outputs": [],
   "source": [
    "vocab = mecab.morphs(text)\n",
    "docs = text.split('.')"
   ]
  },
  {
   "cell_type": "code",
   "execution_count": 6,
   "metadata": {
    "tags": []
   },
   "outputs": [
    {
     "output_type": "stream",
     "name": "stdout",
     "text": "['우선', '현대', '사회', '를', '진단', '하', '는', '것', '부터', '출발', '해', '봅시다', '.', '프롬', '이', '보', '기', '에', '현대', '사회', '가', '흔들리', '는', '가장', '큰', '원인', '은', '분리', '불안', '을', '오해', '하', '는', '데', '있', '어요', '.', '인간', '은', '원천', '적', '으로', '홀로', '존재', '합니다', '.', '세계', '에', '던져진', '외로운', '존재', '이', '기에', '불안', '하', '죠', '.', '키에르케고르', '도', '인간', '의', '불안', '은', '극복', '할', '문제', '가', '아니', '라', '슬기', '롭', '게', '대처', '해야', '할', '문제', '로', '보', '았', '어요', '.', '불안', '으로', '배움', '이', '생길', '수', '있', '다고', '진단', '했', '죠', '.', '떨어져', '있', '으니', '합일', '의', '진정', '성', '에', '허기', '를', '느끼', '게', '되', '고', ',', '그', '허기', '를', '채우', '기', '위해', '우리', '는', '삶', '의', '문제', '를', '고민', '하', '게', '되', '는', '거', '예요', '.']\n128\n['우선 현대 사회를 진단하는 것부터 출발해 봅시다', ' 프롬이 보기에 현대 사회가 흔들리는 가장 큰 원인은 분리불안을 오해하는 데 있어요', ' 인간은 원천적으로 홀로 존재합니다', ' 세계에 던져진 외로운 존재이기에 불안하죠', ' 키에르케고르도 인간의 불안은 극복할 문제가 아니라 슬기롭게 대처해야 할 문제로 보았어요', ' 불안으로 배움이 생길 수 있다고 진단했죠', ' 떨어져 있으니 합일의 진정성에 허기를 느끼게 되고, 그 허기를 채우기 위해 우리는 삶의 문제를 고민하게 되는 거예요', ' ']\n"
    }
   ],
   "source": [
    "print(vocab)\n",
    "print(len(vocab))\n",
    "print(docs)"
   ]
  },
  {
   "cell_type": "code",
   "execution_count": 7,
   "metadata": {
    "tags": []
   },
   "outputs": [
    {
     "output_type": "stream",
     "name": "stdout",
     "text": "81\n8\n"
    }
   ],
   "source": [
    "print(len(set(vocab)))\n",
    "print(len(docs))"
   ]
  },
  {
   "cell_type": "code",
   "execution_count": 8,
   "metadata": {},
   "outputs": [],
   "source": [
    "def tf(t, d):\n",
    "    return d.count(t)\n",
    "def idf(t):\n",
    "    df = 0\n",
    "    for doc in docs:\n",
    "        df += t in doc\n",
    "    return log(N/(df + 1))\n",
    "def tfidf(t, d):\n",
    "    return tf(t,d)*idf(t)"
   ]
  },
  {
   "cell_type": "code",
   "execution_count": 12,
   "metadata": {},
   "outputs": [
    {
     "output_type": "execute_result",
     "data": {
      "text/plain": "   우선  현대  사회  를  진단  하  는  것  부터  출발  ...  문제  를  고민  하  게  되  는  거  예요  .\n0   1   1   1  1   1  1  1  1   1   1  ...   0  1   0  1  0  0  1  0   0  0\n1   0   1   1  0   0  1  2  0   0   0  ...   0  0   0  1  0  0  2  0   0  0\n2   0   0   0  0   0  0  0  0   0   0  ...   0  0   0  0  0  0  0  0   0  0\n3   0   0   0  0   0  1  0  0   0   0  ...   0  0   0  1  0  0  0  0   0  0\n4   0   0   0  0   0  0  0  0   0   0  ...   2  0   0  0  1  0  0  0   0  0\n5   0   0   0  0   1  0  0  0   0   0  ...   0  0   0  0  0  0  0  0   0  0\n6   0   0   0  3   0  1  2  0   0   0  ...   1  3   1  1  2  2  2  1   1  0\n7   0   0   0  0   0  0  0  0   0   0  ...   0  0   0  0  0  0  0  0   0  0\n\n[8 rows x 128 columns]",
      "text/html": "<div>\n<style scoped>\n    .dataframe tbody tr th:only-of-type {\n        vertical-align: middle;\n    }\n\n    .dataframe tbody tr th {\n        vertical-align: top;\n    }\n\n    .dataframe thead th {\n        text-align: right;\n    }\n</style>\n<table border=\"1\" class=\"dataframe\">\n  <thead>\n    <tr style=\"text-align: right;\">\n      <th></th>\n      <th>우선</th>\n      <th>현대</th>\n      <th>사회</th>\n      <th>를</th>\n      <th>진단</th>\n      <th>하</th>\n      <th>는</th>\n      <th>것</th>\n      <th>부터</th>\n      <th>출발</th>\n      <th>...</th>\n      <th>문제</th>\n      <th>를</th>\n      <th>고민</th>\n      <th>하</th>\n      <th>게</th>\n      <th>되</th>\n      <th>는</th>\n      <th>거</th>\n      <th>예요</th>\n      <th>.</th>\n    </tr>\n  </thead>\n  <tbody>\n    <tr>\n      <th>0</th>\n      <td>1</td>\n      <td>1</td>\n      <td>1</td>\n      <td>1</td>\n      <td>1</td>\n      <td>1</td>\n      <td>1</td>\n      <td>1</td>\n      <td>1</td>\n      <td>1</td>\n      <td>...</td>\n      <td>0</td>\n      <td>1</td>\n      <td>0</td>\n      <td>1</td>\n      <td>0</td>\n      <td>0</td>\n      <td>1</td>\n      <td>0</td>\n      <td>0</td>\n      <td>0</td>\n    </tr>\n    <tr>\n      <th>1</th>\n      <td>0</td>\n      <td>1</td>\n      <td>1</td>\n      <td>0</td>\n      <td>0</td>\n      <td>1</td>\n      <td>2</td>\n      <td>0</td>\n      <td>0</td>\n      <td>0</td>\n      <td>...</td>\n      <td>0</td>\n      <td>0</td>\n      <td>0</td>\n      <td>1</td>\n      <td>0</td>\n      <td>0</td>\n      <td>2</td>\n      <td>0</td>\n      <td>0</td>\n      <td>0</td>\n    </tr>\n    <tr>\n      <th>2</th>\n      <td>0</td>\n      <td>0</td>\n      <td>0</td>\n      <td>0</td>\n      <td>0</td>\n      <td>0</td>\n      <td>0</td>\n      <td>0</td>\n      <td>0</td>\n      <td>0</td>\n      <td>...</td>\n      <td>0</td>\n      <td>0</td>\n      <td>0</td>\n      <td>0</td>\n      <td>0</td>\n      <td>0</td>\n      <td>0</td>\n      <td>0</td>\n      <td>0</td>\n      <td>0</td>\n    </tr>\n    <tr>\n      <th>3</th>\n      <td>0</td>\n      <td>0</td>\n      <td>0</td>\n      <td>0</td>\n      <td>0</td>\n      <td>1</td>\n      <td>0</td>\n      <td>0</td>\n      <td>0</td>\n      <td>0</td>\n      <td>...</td>\n      <td>0</td>\n      <td>0</td>\n      <td>0</td>\n      <td>1</td>\n      <td>0</td>\n      <td>0</td>\n      <td>0</td>\n      <td>0</td>\n      <td>0</td>\n      <td>0</td>\n    </tr>\n    <tr>\n      <th>4</th>\n      <td>0</td>\n      <td>0</td>\n      <td>0</td>\n      <td>0</td>\n      <td>0</td>\n      <td>0</td>\n      <td>0</td>\n      <td>0</td>\n      <td>0</td>\n      <td>0</td>\n      <td>...</td>\n      <td>2</td>\n      <td>0</td>\n      <td>0</td>\n      <td>0</td>\n      <td>1</td>\n      <td>0</td>\n      <td>0</td>\n      <td>0</td>\n      <td>0</td>\n      <td>0</td>\n    </tr>\n    <tr>\n      <th>5</th>\n      <td>0</td>\n      <td>0</td>\n      <td>0</td>\n      <td>0</td>\n      <td>1</td>\n      <td>0</td>\n      <td>0</td>\n      <td>0</td>\n      <td>0</td>\n      <td>0</td>\n      <td>...</td>\n      <td>0</td>\n      <td>0</td>\n      <td>0</td>\n      <td>0</td>\n      <td>0</td>\n      <td>0</td>\n      <td>0</td>\n      <td>0</td>\n      <td>0</td>\n      <td>0</td>\n    </tr>\n    <tr>\n      <th>6</th>\n      <td>0</td>\n      <td>0</td>\n      <td>0</td>\n      <td>3</td>\n      <td>0</td>\n      <td>1</td>\n      <td>2</td>\n      <td>0</td>\n      <td>0</td>\n      <td>0</td>\n      <td>...</td>\n      <td>1</td>\n      <td>3</td>\n      <td>1</td>\n      <td>1</td>\n      <td>2</td>\n      <td>2</td>\n      <td>2</td>\n      <td>1</td>\n      <td>1</td>\n      <td>0</td>\n    </tr>\n    <tr>\n      <th>7</th>\n      <td>0</td>\n      <td>0</td>\n      <td>0</td>\n      <td>0</td>\n      <td>0</td>\n      <td>0</td>\n      <td>0</td>\n      <td>0</td>\n      <td>0</td>\n      <td>0</td>\n      <td>...</td>\n      <td>0</td>\n      <td>0</td>\n      <td>0</td>\n      <td>0</td>\n      <td>0</td>\n      <td>0</td>\n      <td>0</td>\n      <td>0</td>\n      <td>0</td>\n      <td>0</td>\n    </tr>\n  </tbody>\n</table>\n<p>8 rows × 128 columns</p>\n</div>"
     },
     "metadata": {},
     "execution_count": 12
    }
   ],
   "source": [
    "result = []\n",
    "N = len(docs)\n",
    "for i in range(N):\n",
    "    result.append([])\n",
    "    d = docs[i]\n",
    "    for j in range(len(vocab)):\n",
    "        t = vocab[j]\n",
    "        result[-1].append(tf(t, d))\n",
    "\n",
    "tf_ = pd.DataFrame(result, columns=vocab)\n",
    "tf_"
   ]
  },
  {
   "cell_type": "code",
   "execution_count": 14,
   "metadata": {},
   "outputs": [
    {
     "output_type": "execute_result",
     "data": {
      "text/plain": "         IDF\n우선  1.386294\n현대  0.980829\n사회  0.980829\n를   0.980829\n진단  0.980829\n..       ...\n되   1.386294\n는   0.693147\n거   1.386294\n예요  1.386294\n.   2.079442\n\n[128 rows x 1 columns]",
      "text/html": "<div>\n<style scoped>\n    .dataframe tbody tr th:only-of-type {\n        vertical-align: middle;\n    }\n\n    .dataframe tbody tr th {\n        vertical-align: top;\n    }\n\n    .dataframe thead th {\n        text-align: right;\n    }\n</style>\n<table border=\"1\" class=\"dataframe\">\n  <thead>\n    <tr style=\"text-align: right;\">\n      <th></th>\n      <th>IDF</th>\n    </tr>\n  </thead>\n  <tbody>\n    <tr>\n      <th>우선</th>\n      <td>1.386294</td>\n    </tr>\n    <tr>\n      <th>현대</th>\n      <td>0.980829</td>\n    </tr>\n    <tr>\n      <th>사회</th>\n      <td>0.980829</td>\n    </tr>\n    <tr>\n      <th>를</th>\n      <td>0.980829</td>\n    </tr>\n    <tr>\n      <th>진단</th>\n      <td>0.980829</td>\n    </tr>\n    <tr>\n      <th>...</th>\n      <td>...</td>\n    </tr>\n    <tr>\n      <th>되</th>\n      <td>1.386294</td>\n    </tr>\n    <tr>\n      <th>는</th>\n      <td>0.693147</td>\n    </tr>\n    <tr>\n      <th>거</th>\n      <td>1.386294</td>\n    </tr>\n    <tr>\n      <th>예요</th>\n      <td>1.386294</td>\n    </tr>\n    <tr>\n      <th>.</th>\n      <td>2.079442</td>\n    </tr>\n  </tbody>\n</table>\n<p>128 rows × 1 columns</p>\n</div>"
     },
     "metadata": {},
     "execution_count": 14
    }
   ],
   "source": [
    "result = []\n",
    "for j in range(len(vocab)):\n",
    "    t = vocab[j]\n",
    "    result.append(idf(t))\n",
    "\n",
    "idf_ = pd.DataFrame(result, index=vocab, columns=['IDF'])\n",
    "idf_"
   ]
  },
  {
   "cell_type": "code",
   "execution_count": 15,
   "metadata": {},
   "outputs": [
    {
     "output_type": "execute_result",
     "data": {
      "text/plain": "         우선        현대        사회         를        진단         하         는  \\\n0  1.386294  0.980829  0.980829  0.980829  0.980829  0.470004  0.693147   \n1  0.000000  0.980829  0.980829  0.000000  0.000000  0.470004  1.386294   \n2  0.000000  0.000000  0.000000  0.000000  0.000000  0.000000  0.000000   \n3  0.000000  0.000000  0.000000  0.000000  0.000000  0.470004  0.000000   \n4  0.000000  0.000000  0.000000  0.000000  0.000000  0.000000  0.000000   \n5  0.000000  0.000000  0.000000  0.000000  0.980829  0.000000  0.000000   \n6  0.000000  0.000000  0.000000  2.942488  0.000000  0.470004  1.386294   \n7  0.000000  0.000000  0.000000  0.000000  0.000000  0.000000  0.000000   \n\n          것        부터        출발  ...        문제         를        고민         하  \\\n0  1.386294  1.386294  1.386294  ...  0.000000  0.980829  0.000000  0.470004   \n1  0.000000  0.000000  0.000000  ...  0.000000  0.000000  0.000000  0.470004   \n2  0.000000  0.000000  0.000000  ...  0.000000  0.000000  0.000000  0.000000   \n3  0.000000  0.000000  0.000000  ...  0.000000  0.000000  0.000000  0.470004   \n4  0.000000  0.000000  0.000000  ...  1.961659  0.000000  0.000000  0.000000   \n5  0.000000  0.000000  0.000000  ...  0.000000  0.000000  0.000000  0.000000   \n6  0.000000  0.000000  0.000000  ...  0.980829  2.942488  1.386294  0.470004   \n7  0.000000  0.000000  0.000000  ...  0.000000  0.000000  0.000000  0.000000   \n\n          게         되         는         거        예요    .  \n0  0.000000  0.000000  0.693147  0.000000  0.000000  0.0  \n1  0.000000  0.000000  1.386294  0.000000  0.000000  0.0  \n2  0.000000  0.000000  0.000000  0.000000  0.000000  0.0  \n3  0.000000  0.000000  0.000000  0.000000  0.000000  0.0  \n4  0.980829  0.000000  0.000000  0.000000  0.000000  0.0  \n5  0.000000  0.000000  0.000000  0.000000  0.000000  0.0  \n6  1.961659  2.772589  1.386294  1.386294  1.386294  0.0  \n7  0.000000  0.000000  0.000000  0.000000  0.000000  0.0  \n\n[8 rows x 128 columns]",
      "text/html": "<div>\n<style scoped>\n    .dataframe tbody tr th:only-of-type {\n        vertical-align: middle;\n    }\n\n    .dataframe tbody tr th {\n        vertical-align: top;\n    }\n\n    .dataframe thead th {\n        text-align: right;\n    }\n</style>\n<table border=\"1\" class=\"dataframe\">\n  <thead>\n    <tr style=\"text-align: right;\">\n      <th></th>\n      <th>우선</th>\n      <th>현대</th>\n      <th>사회</th>\n      <th>를</th>\n      <th>진단</th>\n      <th>하</th>\n      <th>는</th>\n      <th>것</th>\n      <th>부터</th>\n      <th>출발</th>\n      <th>...</th>\n      <th>문제</th>\n      <th>를</th>\n      <th>고민</th>\n      <th>하</th>\n      <th>게</th>\n      <th>되</th>\n      <th>는</th>\n      <th>거</th>\n      <th>예요</th>\n      <th>.</th>\n    </tr>\n  </thead>\n  <tbody>\n    <tr>\n      <th>0</th>\n      <td>1.386294</td>\n      <td>0.980829</td>\n      <td>0.980829</td>\n      <td>0.980829</td>\n      <td>0.980829</td>\n      <td>0.470004</td>\n      <td>0.693147</td>\n      <td>1.386294</td>\n      <td>1.386294</td>\n      <td>1.386294</td>\n      <td>...</td>\n      <td>0.000000</td>\n      <td>0.980829</td>\n      <td>0.000000</td>\n      <td>0.470004</td>\n      <td>0.000000</td>\n      <td>0.000000</td>\n      <td>0.693147</td>\n      <td>0.000000</td>\n      <td>0.000000</td>\n      <td>0.0</td>\n    </tr>\n    <tr>\n      <th>1</th>\n      <td>0.000000</td>\n      <td>0.980829</td>\n      <td>0.980829</td>\n      <td>0.000000</td>\n      <td>0.000000</td>\n      <td>0.470004</td>\n      <td>1.386294</td>\n      <td>0.000000</td>\n      <td>0.000000</td>\n      <td>0.000000</td>\n      <td>...</td>\n      <td>0.000000</td>\n      <td>0.000000</td>\n      <td>0.000000</td>\n      <td>0.470004</td>\n      <td>0.000000</td>\n      <td>0.000000</td>\n      <td>1.386294</td>\n      <td>0.000000</td>\n      <td>0.000000</td>\n      <td>0.0</td>\n    </tr>\n    <tr>\n      <th>2</th>\n      <td>0.000000</td>\n      <td>0.000000</td>\n      <td>0.000000</td>\n      <td>0.000000</td>\n      <td>0.000000</td>\n      <td>0.000000</td>\n      <td>0.000000</td>\n      <td>0.000000</td>\n      <td>0.000000</td>\n      <td>0.000000</td>\n      <td>...</td>\n      <td>0.000000</td>\n      <td>0.000000</td>\n      <td>0.000000</td>\n      <td>0.000000</td>\n      <td>0.000000</td>\n      <td>0.000000</td>\n      <td>0.000000</td>\n      <td>0.000000</td>\n      <td>0.000000</td>\n      <td>0.0</td>\n    </tr>\n    <tr>\n      <th>3</th>\n      <td>0.000000</td>\n      <td>0.000000</td>\n      <td>0.000000</td>\n      <td>0.000000</td>\n      <td>0.000000</td>\n      <td>0.470004</td>\n      <td>0.000000</td>\n      <td>0.000000</td>\n      <td>0.000000</td>\n      <td>0.000000</td>\n      <td>...</td>\n      <td>0.000000</td>\n      <td>0.000000</td>\n      <td>0.000000</td>\n      <td>0.470004</td>\n      <td>0.000000</td>\n      <td>0.000000</td>\n      <td>0.000000</td>\n      <td>0.000000</td>\n      <td>0.000000</td>\n      <td>0.0</td>\n    </tr>\n    <tr>\n      <th>4</th>\n      <td>0.000000</td>\n      <td>0.000000</td>\n      <td>0.000000</td>\n      <td>0.000000</td>\n      <td>0.000000</td>\n      <td>0.000000</td>\n      <td>0.000000</td>\n      <td>0.000000</td>\n      <td>0.000000</td>\n      <td>0.000000</td>\n      <td>...</td>\n      <td>1.961659</td>\n      <td>0.000000</td>\n      <td>0.000000</td>\n      <td>0.000000</td>\n      <td>0.980829</td>\n      <td>0.000000</td>\n      <td>0.000000</td>\n      <td>0.000000</td>\n      <td>0.000000</td>\n      <td>0.0</td>\n    </tr>\n    <tr>\n      <th>5</th>\n      <td>0.000000</td>\n      <td>0.000000</td>\n      <td>0.000000</td>\n      <td>0.000000</td>\n      <td>0.980829</td>\n      <td>0.000000</td>\n      <td>0.000000</td>\n      <td>0.000000</td>\n      <td>0.000000</td>\n      <td>0.000000</td>\n      <td>...</td>\n      <td>0.000000</td>\n      <td>0.000000</td>\n      <td>0.000000</td>\n      <td>0.000000</td>\n      <td>0.000000</td>\n      <td>0.000000</td>\n      <td>0.000000</td>\n      <td>0.000000</td>\n      <td>0.000000</td>\n      <td>0.0</td>\n    </tr>\n    <tr>\n      <th>6</th>\n      <td>0.000000</td>\n      <td>0.000000</td>\n      <td>0.000000</td>\n      <td>2.942488</td>\n      <td>0.000000</td>\n      <td>0.470004</td>\n      <td>1.386294</td>\n      <td>0.000000</td>\n      <td>0.000000</td>\n      <td>0.000000</td>\n      <td>...</td>\n      <td>0.980829</td>\n      <td>2.942488</td>\n      <td>1.386294</td>\n      <td>0.470004</td>\n      <td>1.961659</td>\n      <td>2.772589</td>\n      <td>1.386294</td>\n      <td>1.386294</td>\n      <td>1.386294</td>\n      <td>0.0</td>\n    </tr>\n    <tr>\n      <th>7</th>\n      <td>0.000000</td>\n      <td>0.000000</td>\n      <td>0.000000</td>\n      <td>0.000000</td>\n      <td>0.000000</td>\n      <td>0.000000</td>\n      <td>0.000000</td>\n      <td>0.000000</td>\n      <td>0.000000</td>\n      <td>0.000000</td>\n      <td>...</td>\n      <td>0.000000</td>\n      <td>0.000000</td>\n      <td>0.000000</td>\n      <td>0.000000</td>\n      <td>0.000000</td>\n      <td>0.000000</td>\n      <td>0.000000</td>\n      <td>0.000000</td>\n      <td>0.000000</td>\n      <td>0.0</td>\n    </tr>\n  </tbody>\n</table>\n<p>8 rows × 128 columns</p>\n</div>"
     },
     "metadata": {},
     "execution_count": 15
    }
   ],
   "source": [
    "result = []\n",
    "for i in range(N):\n",
    "    result.append([])\n",
    "    d = docs[i]\n",
    "    for j in range(len(vocab)):\n",
    "        t = vocab[j]\n",
    "\n",
    "        result[-1].append(tfidf(t,d))\n",
    "\n",
    "tfidf_ = pd.DataFrame(result, columns=vocab)\n",
    "tfidf_"
   ]
  },
  {
   "cell_type": "code",
   "execution_count": null,
   "metadata": {},
   "outputs": [],
   "source": []
  }
 ],
 "metadata": {
  "kernelspec": {
   "display_name": "Python 3",
   "language": "python",
   "name": "python3"
  },
  "language_info": {
   "codemirror_mode": {
    "name": "ipython",
    "version": 3
   },
   "file_extension": ".py",
   "mimetype": "text/x-python",
   "name": "python",
   "nbconvert_exporter": "python",
   "pygments_lexer": "ipython3",
   "version": "3.7.7-final"
  }
 },
 "nbformat": 4,
 "nbformat_minor": 4
}