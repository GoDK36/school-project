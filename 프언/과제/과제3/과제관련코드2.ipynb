{
 "cells": [
  {
   "cell_type": "code",
   "execution_count": 1,
   "metadata": {},
   "outputs": [],
   "source": [
    "txt = \"\"\"<xml>\n",
    "<header>\n",
    "<a>기관명</a>\n",
    "</header>\n",
    "<text id=\"00\">\n",
    "<file>abc.txt</file>\n",
    "</text>\n",
    "<text id=\"01\">\n",
    "<file>ddd.txt</file>\n",
    "</text>\n",
    "</xml>\n",
    "\"\"\""
   ]
  },
  {
   "cell_type": "code",
   "execution_count": 2,
   "metadata": {},
   "outputs": [
    {
     "ename": "FileNotFoundError",
     "evalue": "[Errno 2] No such file or directory: 'SJML파일의 경로+파일명'",
     "output_type": "error",
     "traceback": [
      "\u001b[1;31m---------------------------------------------------------------------------\u001b[0m",
      "\u001b[1;31mFileNotFoundError\u001b[0m                         Traceback (most recent call last)",
      "\u001b[1;32m<ipython-input-2-4afd232a7dff>\u001b[0m in \u001b[0;36m<module>\u001b[1;34m\u001b[0m\n\u001b[1;32m----> 1\u001b[1;33m \u001b[1;32mwith\u001b[0m \u001b[0mopen\u001b[0m\u001b[1;33m(\u001b[0m\u001b[1;34m'SJML파일의 경로+파일명'\u001b[0m\u001b[1;33m,\u001b[0m \u001b[1;34m'r'\u001b[0m\u001b[1;33m,\u001b[0m \u001b[0mencoding\u001b[0m\u001b[1;33m=\u001b[0m\u001b[1;34m'utf8'\u001b[0m\u001b[1;33m)\u001b[0m \u001b[1;32mas\u001b[0m \u001b[0minF\u001b[0m\u001b[1;33m:\u001b[0m\u001b[1;33m\u001b[0m\u001b[1;33m\u001b[0m\u001b[0m\n\u001b[0m\u001b[0;32m      2\u001b[0m     \u001b[0mtxt\u001b[0m \u001b[1;33m=\u001b[0m \u001b[0minF\u001b[0m\u001b[1;33m.\u001b[0m\u001b[0mread\u001b[0m\u001b[1;33m(\u001b[0m\u001b[1;33m)\u001b[0m\u001b[1;33m\u001b[0m\u001b[1;33m\u001b[0m\u001b[0m\n",
      "\u001b[1;31mFileNotFoundError\u001b[0m: [Errno 2] No such file or directory: 'SJML파일의 경로+파일명'"
     ]
    }
   ],
   "source": [
    "with open('SJML파일의 경로+파일명', 'r', encoding='utf8') as inF:\n",
    "    txt = inF.read()"
   ]
  },
  {
   "cell_type": "code",
   "execution_count": 75,
   "metadata": {},
   "outputs": [
    {
     "data": {
      "text/plain": [
       "'기관명'"
      ]
     },
     "execution_count": 75,
     "metadata": {},
     "output_type": "execute_result"
    }
   ],
   "source": [
    "a = re.findall('<a>(.*?)</a>', txt)[0]\n",
    "a"
   ]
  },
  {
   "cell_type": "code",
   "execution_count": 76,
   "metadata": {},
   "outputs": [
    {
     "name": "stdout",
     "output_type": "stream",
     "text": [
      "<header>\n",
      "  <author>기관명</author>\n",
      "</header>\n",
      "\n"
     ]
    }
   ],
   "source": [
    "output = f\"\"\"<header>\n",
    "  <author>{a}</author>\n",
    "</header>\n",
    "\"\"\"\n",
    "print(output)"
   ]
  },
  {
   "cell_type": "code",
   "execution_count": 103,
   "metadata": {},
   "outputs": [
    {
     "name": "stdout",
     "output_type": "stream",
     "text": [
      "<header>\n",
      "  <author>기관명</author>\n",
      "  <id>00</id>\n",
      "</header>\n",
      "<body>\n",
      "00\n",
      "</body>\n",
      "\n",
      "\n",
      "<header>\n",
      "  <author>기관명</author>\n",
      "  <id>01</id>\n",
      "</header>\n",
      "<body>\n",
      "01\n",
      "</body>\n",
      "\n",
      "\n"
     ]
    }
   ],
   "source": [
    "for atc_attr, atc_only in re.findall('(<text.*?>)(.*?)</text>', txt, re.S):\n",
    "    \n",
    "    # id, subclass, date 가져오는 부분\n",
    "    id_ = re.findall('id=\"(.*?)\"', atc_attr)[0]\n",
    "#     print(id_)\n",
    "    \n",
    "    # body 쓰는 부분\n",
    "#     print(atc_only)\n",
    "    \n",
    "    # body의 스페이스를 처리하는 부분\n",
    "    \n",
    "    # 출력 결과 작성\n",
    "    output = f\"\"\"<header>\n",
    "  <author>{a}</author>\n",
    "  <id>{id_}</id>\n",
    "</header>\n",
    "<body>\n",
    "{id_}\n",
    "</body>\n",
    "\"\"\"\n",
    "    #파일 쓰기\n",
    "    fn = id+'.xml'\n",
    "    with open(os.path.join(outDir, fn), 'w', encoding='utf8') as outF:\n",
    "        outF.write(output)\n"
   ]
  },
  {
   "cell_type": "code",
   "execution_count": 94,
   "metadata": {},
   "outputs": [],
   "source": [
    "txt = \"\"\"    a\n",
    "   b\n",
    "   c4\n",
    "\"\"\""
   ]
  },
  {
   "cell_type": "code",
   "execution_count": 97,
   "metadata": {},
   "outputs": [
    {
     "name": "stdout",
     "output_type": "stream",
     "text": [
      "  a\n",
      "  b\n",
      "  c4\n",
      "\n"
     ]
    }
   ],
   "source": [
    "print(re.sub(re.compile(r'^\\s+',re.M),'  ', txt))"
   ]
  },
  {
   "cell_type": "code",
   "execution_count": null,
   "metadata": {},
   "outputs": [],
   "source": []
  }
 ],
 "metadata": {
  "kernelspec": {
   "display_name": "Python 3",
   "language": "python",
   "name": "python3"
  },
  "language_info": {
   "codemirror_mode": {
    "name": "ipython",
    "version": 3
   },
   "file_extension": ".py",
   "mimetype": "text/x-python",
   "name": "python",
   "nbconvert_exporter": "python",
   "pygments_lexer": "ipython3",
   "version": "3.7.2"
  }
 },
 "nbformat": 4,
 "nbformat_minor": 2
}
