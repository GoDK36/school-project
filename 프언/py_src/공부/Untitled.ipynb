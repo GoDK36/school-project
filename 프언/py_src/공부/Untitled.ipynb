{
 "cells": [
  {
   "cell_type": "code",
   "execution_count": 1,
   "metadata": {},
   "outputs": [],
   "source": [
    "a = 2\n",
    "b = 3"
   ]
  },
  {
   "cell_type": "code",
   "execution_count": 4,
   "metadata": {},
   "outputs": [
    {
     "name": "stdout",
     "output_type": "stream",
     "text": [
      "You entered  2 and  3\n"
     ]
    }
   ],
   "source": [
    "print(\"You entered \",a, 'and ',b)"
   ]
  },
  {
   "cell_type": "code",
   "execution_count": 5,
   "metadata": {},
   "outputs": [],
   "source": [
    "lst = [24, 5, 8, 2, 33, 72]"
   ]
  },
  {
   "cell_type": "code",
   "execution_count": 9,
   "metadata": {},
   "outputs": [
    {
     "data": {
      "text/plain": [
       "48"
      ]
     },
     "execution_count": 9,
     "metadata": {},
     "output_type": "execute_result"
    }
   ],
   "source": [
    "sum(lst[1:5])"
   ]
  },
  {
   "cell_type": "code",
   "execution_count": 15,
   "metadata": {},
   "outputs": [
    {
     "name": "stdout",
     "output_type": "stream",
     "text": [
      "number: 5\n",
      "number: 642\n",
      "number: 22\n",
      "669\n",
      "642\n",
      "5\n"
     ]
    }
   ],
   "source": [
    "a = input(\"number: \")\n",
    "b = input(\"number: \")\n",
    "c = input(\"number: \")\n",
    "lst = []\n",
    "lst.append(int(a))\n",
    "lst.append(int(b))\n",
    "lst.append(int(c))\n",
    "print(sum(lst))\n",
    "print(max(lst))\n",
    "print(min(lst))"
   ]
  },
  {
   "cell_type": "code",
   "execution_count": 16,
   "metadata": {},
   "outputs": [
    {
     "data": {
      "text/plain": [
       "14"
      ]
     },
     "execution_count": 16,
     "metadata": {},
     "output_type": "execute_result"
    }
   ],
   "source": [
    "sent = \"Life is too short\"\n",
    "len(sent.replace(' ',''))"
   ]
  },
  {
   "cell_type": "code",
   "execution_count": 17,
   "metadata": {},
   "outputs": [
    {
     "data": {
      "text/plain": [
       "4"
      ]
     },
     "execution_count": 17,
     "metadata": {},
     "output_type": "execute_result"
    }
   ],
   "source": [
    "len(sent.split())"
   ]
  },
  {
   "cell_type": "code",
   "execution_count": 18,
   "metadata": {},
   "outputs": [],
   "source": [
    "d = {'apples':5, 'cups':2}"
   ]
  },
  {
   "cell_type": "code",
   "execution_count": 19,
   "metadata": {},
   "outputs": [
    {
     "name": "stdout",
     "output_type": "stream",
     "text": [
      "I'm bringing  5 apples\n"
     ]
    }
   ],
   "source": [
    "print(\"I'm bringing \",d['apples'],\"apples\")"
   ]
  },
  {
   "cell_type": "code",
   "execution_count": 1,
   "metadata": {},
   "outputs": [
    {
     "name": "stdout",
     "output_type": "stream",
     "text": [
      "무슨 요일인가요? monday\n",
      "통장 잔고는? 5\n",
      "normal working day\n"
     ]
    }
   ],
   "source": [
    "day = input(\"무슨 요일인가요? \")\n",
    "money = int(input(\"통장 잔고는? \"))\n",
    "if 'saturday' in day:\n",
    "    if money >= 20000:\n",
    "        print(\"Go for shopping\")\n",
    "    else:\n",
    "        print(\"watch T.V.\")\n",
    "elif 'sunday' in day:\n",
    "    if money >= 20000:\n",
    "        print(\"Go for shopping\")\n",
    "    else:\n",
    "        print(\"watch T.V.\")\n",
    "else:\n",
    "    print(\"normal working day\")"
   ]
  },
  {
   "cell_type": "code",
   "execution_count": null,
   "metadata": {},
   "outputs": [],
   "source": []
  }
 ],
 "metadata": {
  "kernelspec": {
   "display_name": "Python 3",
   "language": "python",
   "name": "python3"
  },
  "language_info": {
   "codemirror_mode": {
    "name": "ipython",
    "version": 3
   },
   "file_extension": ".py",
   "mimetype": "text/x-python",
   "name": "python",
   "nbconvert_exporter": "python",
   "pygments_lexer": "ipython3",
   "version": "3.7.2"
  }
 },
 "nbformat": 4,
 "nbformat_minor": 2
}
