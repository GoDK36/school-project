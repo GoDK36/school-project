{
 "cells": [
  {
   "cell_type": "code",
   "execution_count": 2,
   "metadata": {},
   "outputs": [],
   "source": [
    "import re, os\n",
    "\n",
    "def rm_str(txt):\n",
    "    txt = re.sub('/[A-Z]+', '', txt).replace('+ ', '')\n",
    "    kak = re.sub('\\d+','',txt)\n",
    "    return kak\n",
    "\n",
    "outF = open('merged.txt', 'w', encoding='utf8')\n",
    "for root, dirs, files in os.walk(r\"D:\\GOD's folder\\자료\\대학교\\언어학\\프로그래밍 연습\\과제\\data\"):\n",
    "    for fn in files:\n",
    "        with open(os.path.join(root, fn), 'r', encoding='cp949') as inF:\n",
    "            txt = inF.read()\n",
    "        outF.write(rm_str(txt)+'\\n')\n",
    "outF.close()"
   ]
  },
  {
   "cell_type": "code",
   "execution_count": null,
   "metadata": {},
   "outputs": [],
   "source": []
  }
 ],
 "metadata": {
  "kernelspec": {
   "display_name": "Python 3",
   "language": "python",
   "name": "python3"
  },
  "language_info": {
   "codemirror_mode": {
    "name": "ipython",
    "version": 3
   },
   "file_extension": ".py",
   "mimetype": "text/x-python",
   "name": "python",
   "nbconvert_exporter": "python",
   "pygments_lexer": "ipython3",
   "version": "3.7.2"
  }
 },
 "nbformat": 4,
 "nbformat_minor": 2
}
