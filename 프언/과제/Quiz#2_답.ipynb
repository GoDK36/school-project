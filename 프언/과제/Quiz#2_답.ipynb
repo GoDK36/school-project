{
 "cells": [
  {
   "cell_type": "markdown",
   "metadata": {
    "ExecuteTime": {
     "end_time": "2019-05-29T04:37:32.101625Z",
     "start_time": "2019-05-29T04:37:32.097635Z"
    }
   },
   "source": [
    "문제1) 다음 코드를 실행할 때 발생하는 오류를 파악하고, 해당 오류 발생 시 '오류 발생'이라는 메시지가 출력되도록 '예외 처리'를 하세요."
   ]
  },
  {
   "cell_type": "code",
   "execution_count": 4,
   "metadata": {},
   "outputs": [
    {
     "name": "stdout",
     "output_type": "stream",
     "text": [
      "오류 발생\n"
     ]
    }
   ],
   "source": [
    "try:\n",
    "    print(2+'2')\n",
    "except TypeError:\n",
    "    print('오류 발생')"
   ]
  },
  {
   "cell_type": "code",
   "execution_count": null,
   "metadata": {},
   "outputs": [],
   "source": []
  },
  {
   "cell_type": "markdown",
   "metadata": {},
   "source": [
    "------------------------\n",
    "문제2) data 폴더에 있는 파일들을 읽어서 특정 패턴의 문자열을 삭제한 후 merged.txt라는 하나의 파일에 쓰기\n",
    "\n",
    "삭제할 문자열 패턴은 다음과 같다.\n",
    "* 플러스(+) 기호\n",
    "* 슬래쉬(/) 기호로 시작하는 형태소 태그  예) /NNG, /VV\n",
    "\n",
    "삭제하는 부분은 'rm_str'이라는 이름의 함수로 작성하여 사용할 것\n",
    "______________________\n",
    "결과 예시\n",
    "> 너01 의 마음속 의 블루진 을 찢다 어라 솔직하다 아야 하다01 ㄴ다 .\n",
    ">\n",
    "> 솔직하다 아야 나03 의 영혼02 과 만나다 ㄹ 수02 있다01 다 .\n",
    ">\n",
    "> 그러나 솔직하다 기 가 어렵다 다 .\n",
    "_________________"
   ]
  },
  {
   "cell_type": "code",
   "execution_count": 5,
   "metadata": {
    "ExecuteTime": {
     "end_time": "2019-05-29T04:44:04.302037Z",
     "start_time": "2019-05-29T04:44:04.295056Z"
    }
   },
   "outputs": [
    {
     "name": "stdout",
     "output_type": "stream",
     "text": [
      "3\n",
      "3\n"
     ]
    }
   ],
   "source": [
    "# 함수 사용 관련 예시\n",
    "\n",
    "# a와 b를 더한 값을 출력하는 코드\n",
    "a = 1\n",
    "b = 2\n",
    "res = a+b\n",
    "print(res)\n",
    "\n",
    "# 더하는 부분을 'add'라는 이름의 함수로 작성하여 사용하면\n",
    "def add(a, b):\n",
    "    res = a+b\n",
    "    return res\n",
    "a = 1\n",
    "b = 2\n",
    "res = add(a,b)\n",
    "print(res)"
   ]
  },
  {
   "cell_type": "markdown",
   "metadata": {},
   "source": [
    "------------\n",
    "여기서부터 문제2)의 정답 코드를 작성하세요."
   ]
  },
  {
   "cell_type": "code",
   "execution_count": 8,
   "metadata": {},
   "outputs": [],
   "source": [
    "def rm_str(txt):\n",
    "    txt = re.sub('/[A-Z]+', '', txt).replace('+ ', '')\n",
    "    return txt"
   ]
  },
  {
   "cell_type": "code",
   "execution_count": 9,
   "metadata": {},
   "outputs": [],
   "source": [
    "import re, os\n",
    "\n",
    "outF = open('merged.txt', 'w', encoding='utf8')\n",
    "for root, dirs, files in os.walk('./data'):\n",
    "    for fn in files:\n",
    "        with open(os.path.join(root, fn), 'r', encoding='cp949') as inF:\n",
    "            txt = inF.read()\n",
    "        outF.write(rm_str(txt)+'\\n')\n",
    "outF.close()"
   ]
  },
  {
   "cell_type": "code",
   "execution_count": null,
   "metadata": {},
   "outputs": [],
   "source": []
  },
  {
   "cell_type": "code",
   "execution_count": null,
   "metadata": {},
   "outputs": [],
   "source": []
  },
  {
   "cell_type": "markdown",
   "metadata": {},
   "source": [
    "커널을 재실행[kernel-restart]한 후에도 코드가 정상적으로 작동하는지 확인한 후 제출하는 것이 좋습니다."
   ]
  }
 ],
 "metadata": {
  "kernelspec": {
   "display_name": "Python 3",
   "language": "python",
   "name": "python3"
  },
  "language_info": {
   "codemirror_mode": {
    "name": "ipython",
    "version": 3
   },
   "file_extension": ".py",
   "mimetype": "text/x-python",
   "name": "python",
   "nbconvert_exporter": "python",
   "pygments_lexer": "ipython3",
   "version": "3.7.2"
  },
  "toc": {
   "base_numbering": 1,
   "nav_menu": {},
   "number_sections": true,
   "sideBar": true,
   "skip_h1_title": false,
   "title_cell": "Table of Contents",
   "title_sidebar": "Contents",
   "toc_cell": false,
   "toc_position": {},
   "toc_section_display": true,
   "toc_window_display": false
  }
 },
 "nbformat": 4,
 "nbformat_minor": 2
}
