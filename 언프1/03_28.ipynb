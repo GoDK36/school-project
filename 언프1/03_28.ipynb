{
 "nbformat": 4,
 "nbformat_minor": 2,
 "metadata": {
  "language_info": {
   "name": "python",
   "codemirror_mode": {
    "name": "ipython",
    "version": 3
   },
   "version": "3.7.6-final"
  },
  "orig_nbformat": 2,
  "file_extension": ".py",
  "mimetype": "text/x-python",
  "name": "python",
  "npconvert_exporter": "python",
  "pygments_lexer": "ipython3",
  "version": 3,
  "kernelspec": {
   "name": "python37664bitbaseconda7ccc1197ea424c04aa8e970980241a68",
   "display_name": "Python 3.7.6 64-bit ('base': conda)"
  }
 },
 "cells": [
  {
   "cell_type": "code",
   "execution_count": 1,
   "metadata": {},
   "outputs": [
    {
     "output_type": "stream",
     "name": "stdout",
     "text": "242100.0\n"
    }
   ],
   "source": [
    "rose_v = 5000\n",
    "sun_v = 4000\n",
    "tulip_v = 7000\n",
    "rose_c = 18\n",
    "sun_c = 8\n",
    "tulip_c = 21\n",
    "rate = 0.9\n",
    "ori_tot = (rose_v * rose_c) + (sun_v * sun_c) + (tulip_v * tulip_c)\n",
    "real_tot = ori_tot * rate\n",
    "print(real_tot)"
   ]
  },
  {
   "cell_type": "code",
   "execution_count": null,
   "metadata": {},
   "outputs": [],
   "source": []
  }
 ]
}