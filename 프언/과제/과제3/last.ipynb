{
 "cells": [
  {
   "cell_type": "code",
   "execution_count": 1,
   "metadata": {},
   "outputs": [],
   "source": [
    "import os, re\n",
    "\n",
    "inDir = r\"D:\\GOD's folder\\자료\\대학교\\언어학\\프로그래밍 연습\\과제\\과제3\"\n",
    "outDir = r\"D:\\GOD's folder\\자료\\대학교\\언어학\\프로그래밍 연습\\과제\\과제3\\작성중\"\n",
    "\n",
    "with open(os.path.join(inDir, 'WRAY00001.sjml'), 'r', encoding='utf8') as inF:\n",
    "    txt = inF.read()\n",
    "\n",
    "author = re.findall('<author>(.*?)</author>', txt)[0]\n",
    "for atc_attr, atc_only in re.findall('(<text.*?>)(.*?)</text>', txt, re.S):\n",
    "    id_ = re.findall('id=\"(.*?)\"', atc_attr)[0]\n",
    "    date = re.findall('date=\"(.*?)\"', atc_attr)[0]\n",
    "    subclass = re.findall('subclass=\"(.*?)\"', atc_attr)[0]\n",
    "    body1 = re.sub(re.compile(r'^\\s+',re.M),'  ', atc_only)\n",
    "    body2 = re.sub('</byline>\\n','</byline>',body1)\n",
    "    output = f\"\"\"<header>\n",
    "  <author>{author}</author>\n",
    "  <date>{date}</date>\n",
    "  <subclass>{subclass}</subclass>\n",
    "</header>\n",
    "<body>\n",
    "{body2}\n",
    "</body>\n",
    "\"\"\"\n",
    "    fn = id_+'.xml'\n",
    "    with open(os.path.join(outDir, fn), 'w', encoding='utf8') as outF:\n",
    "        outF.write(output)"
   ]
  },
  {
   "cell_type": "code",
   "execution_count": null,
   "metadata": {},
   "outputs": [],
   "source": [
    "import re, os\n",
    " \n",
    "with open('WRAY00001.sjml', 'r', encoding='utf8') as inF:\n",
    "    xml_txt = inF.read()\n",
    " \n",
    "author = re.findall('<author>(.*?)</author>', xml_txt)[0]\n",
    " \n",
    "for atc, body in re.findall('(<text.*?\">(.*?)</text>)', xml_txt, re.S):\n",
    "    id_ = re.findall('date=\"([0-9]+)', atc)[0]\n",
    "    title = re.findall('<p>(.*?)</p>', atc)[0]\n",
    "    date = re.findall('date=\"([0-9]+)', atc)[0]\n",
    "    subclass = re.findall('subclass=\"(.*?)\"', atc)[0]\n",
    "    body = re.sub(re.compile(r'^\\s*', re.M), '  ', body)\n",
    "    fn = re.findall('id=\"(.*?)\"', atc)[0]\n",
    "    output = f\"\"\"<header>\n",
    "  <author>{author}</author>\n",
    "  <date>{date}</date>\n",
    "  <subclass>{subclass}</subclass>\n",
    "</header>\n",
    "<body>\n",
    "  {body.strip()}\n",
    "</body>\n",
    "\"\"\"\n",
    " \n",
    "    with open(os.path.join('output', fn+'.xml'), 'w', encoding='utf8') as outF:\n",
    "        outF.write(output)"
   ]
  }
 ],
 "metadata": {
  "kernelspec": {
   "display_name": "Python 3",
   "language": "python",
   "name": "python3"
  },
  "language_info": {
   "codemirror_mode": {
    "name": "ipython",
    "version": 3
   },
   "file_extension": ".py",
   "mimetype": "text/x-python",
   "name": "python",
   "nbconvert_exporter": "python",
   "pygments_lexer": "ipython3",
   "version": "3.7.2"
  }
 },
 "nbformat": 4,
 "nbformat_minor": 2
}
